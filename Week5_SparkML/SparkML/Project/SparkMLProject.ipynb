{
 "cells": [
  {
   "cell_type": "code",
   "execution_count": 1,
   "metadata": {},
   "outputs": [],
   "source": [
    "from pyspark.sql import SparkSession\n",
    "from pyspark.ml import Pipeline\n",
    "from pyspark.sql.functions import mean,col,split, col, regexp_extract, when, lit\n",
    "from pyspark.ml.feature import StringIndexer\n",
    "from pyspark.ml.feature import VectorAssembler\n",
    "from pyspark.ml.evaluation import MulticlassClassificationEvaluator\n",
    "from pyspark.ml.feature import QuantileDiscretizer\n",
    "from pyspark.ml.classification import LogisticRegression\n",
    "from pyspark.ml.classification import DecisionTreeClassifier\n",
    "from pyspark.ml.classification import RandomForestClassifier\n",
    "from pyspark.ml.classification import GBTClassifier\n",
    "from pyspark.ml.clustering import KMeans\n",
    "from pyspark.ml.evaluation import ClusteringEvaluator\n",
    "from pyspark.ml.regression import LinearRegression"
   ]
  },
  {
   "cell_type": "code",
   "execution_count": 2,
   "metadata": {},
   "outputs": [],
   "source": [
    "spark = SparkSession.builder.appName(\"PySparkML\").getOrCreate()"
   ]
  },
  {
   "cell_type": "code",
   "execution_count": 3,
   "metadata": {},
   "outputs": [
    {
     "data": {
      "text/html": [
       "\n",
       "            <div>\n",
       "                <p><b>SparkSession - in-memory</b></p>\n",
       "                \n",
       "        <div>\n",
       "            <p><b>SparkContext</b></p>\n",
       "\n",
       "            <p><a href=\"http://Al-PC:4040\">Spark UI</a></p>\n",
       "\n",
       "            <dl>\n",
       "              <dt>Version</dt>\n",
       "                <dd><code>v3.0.1</code></dd>\n",
       "              <dt>Master</dt>\n",
       "                <dd><code>local[*]</code></dd>\n",
       "              <dt>AppName</dt>\n",
       "                <dd><code>PySparkML</code></dd>\n",
       "            </dl>\n",
       "        </div>\n",
       "        \n",
       "            </div>\n",
       "        "
      ],
      "text/plain": [
       "<pyspark.sql.session.SparkSession at 0x68aebc8>"
      ]
     },
     "execution_count": 3,
     "metadata": {},
     "output_type": "execute_result"
    }
   ],
   "source": [
    "spark"
   ]
  },
  {
   "cell_type": "code",
   "execution_count": 4,
   "metadata": {},
   "outputs": [],
   "source": [
    "#train_data - путь к файлу с данными для обучения модели\n",
    "#test_data - путь к файлу с данными для оценки качества \n",
    "train_df =  spark.read.parquet(\"train.parquet\")\n",
    "test_df =  spark.read.parquet(\"test.parquet\")\n",
    "\n",
    "#(training_data, test_data) = feature_vector.randomSplit([0.8, 0.2],seed = 42)"
   ]
  },
  {
   "cell_type": "code",
   "execution_count": 7,
   "metadata": {},
   "outputs": [
    {
     "name": "stdout",
     "output_type": "stream",
     "text": [
      "+-----+---------------------+---------+------+------+----------------+---------+-----------------+\n",
      "|ad_id|target_audience_count|has_video|is_cpm|is_cpc|         ad_cost|day_count|              ctr|\n",
      "+-----+---------------------+---------+------+------+----------------+---------+-----------------+\n",
      "|    2|     11012.2068140534|        1|     1|     0|196.691891825393|       17| 0.50005065193925|\n",
      "|    3|     9923.69112524699|        1|     1|     0|202.617038691842|       15|0.637132195277704|\n",
      "|    4|     10202.3140990505|        1|     1|     0|203.496891469936|       15|0.783706394973096|\n",
      "|   10|     10239.9431887051|        1|     1|     0|195.804239443196|       15| 1.01044552869544|\n",
      "|   13|     8373.52511906263|        1|     1|     0|202.221614839989|       13| 1.05570252090352|\n",
      "+-----+---------------------+---------+------+------+----------------+---------+-----------------+\n",
      "only showing top 5 rows\n",
      "\n"
     ]
    }
   ],
   "source": [
    "test_df.show(5)"
   ]
  },
  {
   "cell_type": "code",
   "execution_count": 7,
   "metadata": {},
   "outputs": [
    {
     "name": "stdout",
     "output_type": "stream",
     "text": [
      "+-----+---------------------+---------+------+------+----------------+---------+-----------------+--------------------+\n",
      "|ad_id|target_audience_count|has_video|is_cpm|is_cpc|         ad_cost|day_count|              ctr|            features|\n",
      "+-----+---------------------+---------+------+------+----------------+---------+-----------------+--------------------+\n",
      "|    1|     10707.2440058622|        1|     1|     0|201.829292651124|       15|0.431740082807281|[1.0,10707.244005...|\n",
      "|    5|     10643.3872649482|        1|     1|     0|192.577221699704|       15|0.809264519216201|[5.0,10643.387264...|\n",
      "|    6|     11418.7085911347|        1|     1|     0|204.104562956739|       11|0.909738306804039|[6.0,11418.708591...|\n",
      "|    7|     10109.3278687796|        1|     1|     0|194.255798599684|       12|0.941221039774456|[7.0,10109.327868...|\n",
      "|    8|     10665.1119991977|        1|     1|     0|202.658042557742|       14|0.986790019690954|[8.0,10665.111999...|\n",
      "+-----+---------------------+---------+------+------+----------------+---------+-----------------+--------------------+\n",
      "only showing top 5 rows\n",
      "\n",
      "+-----+---------------------+---------+------+------+----------------+---------+-----------------+--------------------+\n",
      "|ad_id|target_audience_count|has_video|is_cpm|is_cpc|         ad_cost|day_count|              ctr|            features|\n",
      "+-----+---------------------+---------+------+------+----------------+---------+-----------------+--------------------+\n",
      "|    2|     11012.2068140534|        1|     1|     0|196.691891825393|       17| 0.50005065193925|[2.0,11012.206814...|\n",
      "|    3|     9923.69112524699|        1|     1|     0|202.617038691842|       15|0.637132195277704|[3.0,9923.6911252...|\n",
      "|    4|     10202.3140990505|        1|     1|     0|203.496891469936|       15|0.783706394973096|[4.0,10202.314099...|\n",
      "|   10|     10239.9431887051|        1|     1|     0|195.804239443196|       15| 1.01044552869544|[10.0,10239.94318...|\n",
      "|   13|     8373.52511906263|        1|     1|     0|202.221614839989|       13| 1.05570252090352|[13.0,8373.525119...|\n",
      "+-----+---------------------+---------+------+------+----------------+---------+-----------------+--------------------+\n",
      "only showing top 5 rows\n",
      "\n"
     ]
    }
   ],
   "source": [
    "train_feature = VectorAssembler(inputCols=train_df.columns[:-1], outputCol=\"features\")\n",
    "test_feature = VectorAssembler(inputCols=test_df.columns[:-1], outputCol=\"features\")\n",
    "\n",
    "train_vector= train_feature.transform(train_df)\n",
    "test_vector =  test_feature.transform(test_df)\n",
    "\n",
    "train_vector.show(5)\n",
    "test_vector.show(5)"
   ]
  },
  {
   "cell_type": "markdown",
   "metadata": {},
   "source": [
    "## Linear regression"
   ]
  },
  {
   "cell_type": "code",
   "execution_count": 26,
   "metadata": {},
   "outputs": [
    {
     "name": "stdout",
     "output_type": "stream",
     "text": [
      "RMSE: 0.411738\n"
     ]
    }
   ],
   "source": [
    "from pyspark.ml.regression import LinearRegression\n",
    "\n",
    "lr = LinearRegression(featuresCol='features', labelCol='ctr', maxIter=40, regParam=0.4, elasticNetParam=0.8)\n",
    "\n",
    "lrModel = lr.fit(train_vector)\n",
    "\n",
    "trainingSummary = lrModel.summary\n",
    "print(\"RMSE: %f\" % trainingSummary.rootMeanSquaredError)\n"
   ]
  },
  {
   "cell_type": "code",
   "execution_count": 27,
   "metadata": {},
   "outputs": [
    {
     "name": "stdout",
     "output_type": "stream",
     "text": [
      "+------------------+-----------------+--------------------+\n",
      "|        prediction|              ctr|            features|\n",
      "+------------------+-----------------+--------------------+\n",
      "|3.5941318105996407| 0.50005065193925|[2.0,11012.206814...|\n",
      "|3.7057827093344433|0.637132195277704|[3.0,9923.6911252...|\n",
      "|3.6772150445911507|0.783706394973096|[4.0,10202.314099...|\n",
      "|3.6734090137674107| 1.01044552869544|[10.0,10239.94318...|\n",
      "| 3.864862104983643| 1.05570252090352|[13.0,8373.525119...|\n",
      "+------------------+-----------------+--------------------+\n",
      "only showing top 5 rows\n",
      "\n",
      "Root Mean Squared Error (RMSE) on test data = 0.409881\n"
     ]
    }
   ],
   "source": [
    "from pyspark.ml.evaluation import RegressionEvaluator\n",
    "\n",
    "predictions = lrModel.transform(test_vector)\n",
    "\n",
    "# Select example rows to display.\n",
    "predictions.select(\"prediction\", \"ctr\", \"features\").show(5)\n",
    "\n",
    "# Select (prediction, true label) and compute test error\n",
    "evaluator = RegressionEvaluator(labelCol=\"ctr\", predictionCol=\"prediction\", metricName=\"rmse\")\n",
    "rmse = evaluator.evaluate(predictions)\n",
    "print(\"Root Mean Squared Error (RMSE) on test data = %g\" % rmse)\n"
   ]
  },
  {
   "cell_type": "markdown",
   "metadata": {},
   "source": [
    "## DecisionTreeRegressor"
   ]
  },
  {
   "cell_type": "code",
   "execution_count": 38,
   "metadata": {},
   "outputs": [
    {
     "name": "stdout",
     "output_type": "stream",
     "text": [
      "+------------------+-----------------+--------------------+\n",
      "|        prediction|              ctr|            features|\n",
      "+------------------+-----------------+--------------------+\n",
      "|2.6008891061065094| 0.50005065193925|[2.0,11012.206814...|\n",
      "|2.6008891061065094|0.637132195277704|[3.0,9923.6911252...|\n",
      "|2.6480997981072663|0.783706394973096|[4.0,10202.314099...|\n",
      "|2.6008891061065094| 1.01044552869544|[10.0,10239.94318...|\n",
      "|2.6008891061065094| 1.05570252090352|[13.0,8373.525119...|\n",
      "+------------------+-----------------+--------------------+\n",
      "only showing top 5 rows\n",
      "\n",
      "Root Mean Squared Error (RMSE) on test data = 0.09064\n",
      "DecisionTreeRegressionModel: uid=DecisionTreeRegressor_d56eff9ca5c0, depth=5, numNodes=63, numFeatures=7\n"
     ]
    }
   ],
   "source": [
    "from pyspark.ml.regression import DecisionTreeRegressor\n",
    "from pyspark.ml.feature import VectorIndexer\n",
    "from pyspark.ml.evaluation import RegressionEvaluator\n",
    "\n",
    "\n",
    "dt = DecisionTreeRegressor(featuresCol='features', labelCol='ctr', predictionCol='prediction', maxDepth=5)\n",
    "model = dt.fit(train_vector)\n",
    "\n",
    "predictions = model.transform(test_vector)\n",
    "\n",
    "# Select example rows to display.\n",
    "predictions.select(\"prediction\", \"ctr\", \"features\").show(5)\n",
    "\n",
    "# Select (prediction, true label) and compute test error\n",
    "evaluator = RegressionEvaluator(labelCol=\"ctr\", predictionCol=\"prediction\", metricName=\"rmse\")\n",
    "rmse = evaluator.evaluate(predictions)\n",
    "print(\"Root Mean Squared Error (RMSE) on test data = %g\" % rmse)\n",
    "\n",
    "print(model)\n"
   ]
  },
  {
   "cell_type": "code",
   "execution_count": 37,
   "metadata": {},
   "outputs": [
    {
     "name": "stdout",
     "output_type": "stream",
     "text": [
      "+------------------+-----------------+--------------------+\n",
      "|        prediction|              ctr|            features|\n",
      "+------------------+-----------------+--------------------+\n",
      "|2.7689802991535255| 0.50005065193925|[2.0,11012.206814...|\n",
      "|2.7460638748768043|0.637132195277704|[3.0,9923.6911252...|\n",
      "|2.7460638748768043|0.783706394973096|[4.0,10202.314099...|\n",
      "|2.7689802991535255| 1.01044552869544|[10.0,10239.94318...|\n",
      "|2.8702843357110996| 1.05570252090352|[13.0,8373.525119...|\n",
      "+------------------+-----------------+--------------------+\n",
      "only showing top 5 rows\n",
      "\n",
      "Root Mean Squared Error (RMSE) on test data = 0.115241\n",
      "RandomForestRegressionModel: uid=RandomForestRegressor_2f9bee79f9a4, numTrees=20, numFeatures=7\n"
     ]
    }
   ],
   "source": [
    "from pyspark.ml import Pipeline\n",
    "from pyspark.ml.regression import RandomForestRegressor\n",
    "from pyspark.ml.feature import VectorIndexer\n",
    "from pyspark.ml.evaluation import RegressionEvaluator\n",
    "\n",
    "rf = RandomForestRegressor(featuresCol='features', labelCol='ctr', predictionCol='prediction')\n",
    "\n",
    "# Chain indexer and forest in a Pipeline\n",
    "pipeline = Pipeline(stages=[rf])\n",
    "\n",
    "# Train model.  This also runs the indexer.\n",
    "model = pipeline.fit(train_vector)\n",
    "\n",
    "# Make predictions.\n",
    "predictions = model.transform(test_vector)\n",
    "\n",
    "# Select example rows to display.\n",
    "predictions.select(\"prediction\", \"ctr\", \"features\").show(5)\n",
    "\n",
    "# Select (prediction, true label) and compute test error\n",
    "evaluator = RegressionEvaluator(labelCol=\"ctr\", predictionCol=\"prediction\", metricName=\"rmse\")\n",
    "rmse = evaluator.evaluate(predictions)\n",
    "print(\"Root Mean Squared Error (RMSE) on test data = %g\" % rmse)\n",
    "\n",
    "rfModel = model.stages[0]\n",
    "print(rfModel)  # summary only"
   ]
  },
  {
   "cell_type": "code",
   "execution_count": 39,
   "metadata": {},
   "outputs": [
    {
     "name": "stdout",
     "output_type": "stream",
     "text": [
      "+------------------+-----------------+--------------------+\n",
      "|        prediction|              ctr|            features|\n",
      "+------------------+-----------------+--------------------+\n",
      "|2.4524957194441006| 0.50005065193925|[2.0,11012.206814...|\n",
      "|2.4524957194441006|0.637132195277704|[3.0,9923.6911252...|\n",
      "|2.4524957194441006|0.783706394973096|[4.0,10202.314099...|\n",
      "| 2.455958038077616| 1.01044552869544|[10.0,10239.94318...|\n",
      "|2.4524957194441006| 1.05570252090352|[13.0,8373.525119...|\n",
      "+------------------+-----------------+--------------------+\n",
      "only showing top 5 rows\n",
      "\n",
      "Root Mean Squared Error (RMSE) on test data = 0.0795267\n",
      "GBTRegressionModel: uid=GBTRegressor_d5987e3333eb, numTrees=20, numFeatures=7\n"
     ]
    }
   ],
   "source": [
    "from pyspark.ml import Pipeline\n",
    "from pyspark.ml.regression import GBTRegressor\n",
    "from pyspark.ml.feature import VectorIndexer\n",
    "from pyspark.ml.evaluation import RegressionEvaluator\n",
    "\n",
    "rf = GBTRegressor(featuresCol='features', labelCol='ctr', predictionCol='prediction')\n",
    "\n",
    "# Chain indexer and forest in a Pipeline\n",
    "pipeline = Pipeline(stages=[rf])\n",
    "\n",
    "# Train model.  This also runs the indexer.\n",
    "model = pipeline.fit(train_vector)\n",
    "\n",
    "# Make predictions.\n",
    "predictions = model.transform(test_vector)\n",
    "\n",
    "# Select example rows to display.\n",
    "predictions.select(\"prediction\", \"ctr\", \"features\").show(5)\n",
    "\n",
    "# Select (prediction, true label) and compute test error\n",
    "evaluator = RegressionEvaluator(labelCol=\"ctr\", predictionCol=\"prediction\", metricName=\"rmse\")\n",
    "rmse = evaluator.evaluate(predictions)\n",
    "print(\"Root Mean Squared Error (RMSE) on test data = %g\" % rmse)\n",
    "\n",
    "rfModel = model.stages[0]\n",
    "print(rfModel)  # summary only"
   ]
  },
  {
   "cell_type": "code",
   "execution_count": 12,
   "metadata": {},
   "outputs": [
    {
     "name": "stdout",
     "output_type": "stream",
     "text": [
      "LinearRegressionModel: uid=LinearRegression_b34925cdc65d, numFeatures=7\n",
      "Root Mean Squared Error (RMSE) on test data = 0.409881\n",
      "GBTRegressionModel: uid=GBTRegressor_9c39608d97ac, numTrees=20, numFeatures=7\n",
      "Root Mean Squared Error (RMSE) on test data = 0.0896609\n",
      "RandomForestRegressionModel: uid=RandomForestRegressor_27105c2dd560, numTrees=20, numFeatures=7\n",
      "Root Mean Squared Error (RMSE) on test data = 0.112729\n",
      "DecisionTreeRegressionModel: uid=DecisionTreeRegressor_d6eb9607a908, depth=5, numNodes=63, numFeatures=7\n",
      "Root Mean Squared Error (RMSE) on test data = 0.0818873\n"
     ]
    }
   ],
   "source": [
    "from pyspark.ml import Pipeline\n",
    "from pyspark.ml.regression import GBTRegressor\n",
    "from pyspark.ml.regression import RandomForestRegressor\n",
    "from pyspark.ml.regression import DecisionTreeRegressor\n",
    "from pyspark.ml.feature import VectorIndexer\n",
    "from pyspark.ml.evaluation import RegressionEvaluator\n",
    "from pyspark.ml.regression import LinearRegression\n",
    "\n",
    "\n",
    "def estimate_process(regression_model, train_vector, test_vector):\n",
    "    feature = VectorAssembler(inputCols=df.columns[:-1], outputCol=\"features\")\n",
    "    \n",
    "    # Chain indexer and forest in a Pipeline\n",
    "    pipeline = Pipeline(stages=[regression_model])\n",
    "\n",
    "    # Train model.  This also runs the indexer.\n",
    "    model = pipeline.fit(train_vector)\n",
    "\n",
    "    # Make predictions.\n",
    "    predictions = model.transform(test_vector)\n",
    "\n",
    "    rfModel = model.stages[0]\n",
    "    print(rfModel)  # summary only \n",
    "    \n",
    "    # Select (prediction, true label) and compute test error\n",
    "    evaluator = RegressionEvaluator(labelCol=\"ctr\", predictionCol=\"prediction\", metricName=\"rmse\")\n",
    "    rmse = evaluator.evaluate(predictions)\n",
    "    print(\"Root Mean Squared Error (RMSE) on test data = %g\" % rmse)\n",
    "\n",
    "    \n",
    "\n",
    "lr = LinearRegression(featuresCol='features', labelCol='ctr', maxIter=40, regParam=0.4, elasticNetParam=0.8)    \n",
    "gbt = GBTRegressor(featuresCol='features', labelCol='ctr', predictionCol='prediction')\n",
    "rf = RandomForestRegressor(featuresCol='features', labelCol='ctr', predictionCol='prediction')\n",
    "dt = DecisionTreeRegressor(featuresCol='features', labelCol='ctr', predictionCol='prediction', maxDepth=5)    \n",
    "\n",
    "regression_models = [lr, gbt, rf, dt]\n",
    "for rm in regression_models:\n",
    "    estimate_process(rm, train_vector, test_vector)       "
   ]
  },
  {
   "cell_type": "code",
   "execution_count": 5,
   "metadata": {},
   "outputs": [
    {
     "name": "stdout",
     "output_type": "stream",
     "text": [
      "+-----+---------------------+---------+------+------+----------------+---------+-----------------+--------------------+\n",
      "|ad_id|target_audience_count|has_video|is_cpm|is_cpc|         ad_cost|day_count|              ctr|            features|\n",
      "+-----+---------------------+---------+------+------+----------------+---------+-----------------+--------------------+\n",
      "|    1|     10707.2440058622|        1|     1|     0|201.829292651124|       15|0.431740082807281|[1.0,10707.244005...|\n",
      "|    5|     10643.3872649482|        1|     1|     0|192.577221699704|       15|0.809264519216201|[5.0,10643.387264...|\n",
      "|    6|     11418.7085911347|        1|     1|     0|204.104562956739|       11|0.909738306804039|[6.0,11418.708591...|\n",
      "|    7|     10109.3278687796|        1|     1|     0|194.255798599684|       12|0.941221039774456|[7.0,10109.327868...|\n",
      "|    8|     10665.1119991977|        1|     1|     0|202.658042557742|       14|0.986790019690954|[8.0,10665.111999...|\n",
      "+-----+---------------------+---------+------+------+----------------+---------+-----------------+--------------------+\n",
      "only showing top 5 rows\n",
      "\n"
     ]
    }
   ],
   "source": [
    "def get_features_vector(df):\n",
    "    return VectorAssembler(inputCols=df.columns[:-1], outputCol=\"features\")\n",
    "\n",
    "# prepare vectors\n",
    "train_vector= get_features_vector(train_df).transform(train_df)\n",
    "test_vector =  get_features_vector(test_df).transform(test_df)\n",
    "\n",
    "train_vector.show(5)"
   ]
  },
  {
   "cell_type": "code",
   "execution_count": 27,
   "metadata": {},
   "outputs": [],
   "source": [
    "from pyspark.ml.tuning import ParamGridBuilder, TrainValidationSplit\n",
    "\n",
    "def get_gbt_param_builder(gbt):\n",
    "    return ParamGridBuilder()\\\n",
    "        .addGrid(gbt.maxDepth, [2, 3, 4, 5])\\\n",
    "        .addGrid(gbt.maxIter, [4, 5, 6, 7])\\\n",
    "        .build()\n",
    "#        .addGrid(gbt.numTrees, [3, 6, 9, 12, 15, 18, 20, 22])\\\n",
    "\n",
    "def get_rf_param_builder(rf):\n",
    "    return ParamGridBuilder()\\\n",
    "        .addGrid(rf.maxDepth, [2, 3, 4, 5])\\\n",
    "        .addGrid(rf.numTrees, [19, 20, 21])\\\n",
    "        .build()\n",
    "\n",
    "def get_dt_param_builder(dt):\n",
    "    return ParamGridBuilder()\\\n",
    "        .addGrid(dt.maxDepth, [4, 5, 6])\\\n",
    "        .addGrid(dt.minInfoGain, [0.0, 0.1, 0.2])\\\n",
    "        .addGrid(dt.maxBins, [25, 28, 32])\\\n",
    "        .build()\n",
    "#        .addGrid(dt.numTrees, [3, 6, 9, 12, 15, 18, 20, 22])\\\n",
    "\n",
    "\n",
    "def get_best_model(estimator, paramGrid, evaluator, training_data):\n",
    "    tvs = TrainValidationSplit(estimator=estimator,\n",
    "                           estimatorParamMaps=paramGrid,\n",
    "                           evaluator=evaluator,\n",
    "                           # 80% of the data will be used for training, 20% for validation.\n",
    "                           trainRatio=0.8)\n",
    "\n",
    "    # Run TrainValidationSplit, and choose the best set of parameters.\n",
    "    model = tvs.fit(training_data)\n",
    "    return model.bestModel\n",
    "\n",
    "\n",
    "\n",
    "lr = LinearRegression(featuresCol='features', labelCol='ctr', maxIter=40, regParam=0.4, elasticNetParam=0.8)    \n",
    "gbt = GBTRegressor(featuresCol='features', labelCol='ctr', predictionCol='prediction')\n",
    "rf = RandomForestRegressor(featuresCol='features', labelCol='ctr', predictionCol='prediction')\n",
    "dt = DecisionTreeRegressor(featuresCol='features', labelCol='ctr', predictionCol='prediction', maxDepth=5)    \n",
    "\n",
    "regression_models = [(gbt, get_gbt_param_builder(gbt)), (rf, get_rf_param_builder(rf)), (dt, get_dt_param_builder(dt))]\n",
    "evaluator = RegressionEvaluator(labelCol=\"ctr\", predictionCol=\"prediction\", metricName=\"rmse\")\n",
    "best_models = []\n",
    "\n",
    "for (model, params) in regression_models:\n",
    "    best_models.append(get_best_model(model, params, evaluator, train_vector))\n"
   ]
  },
  {
   "cell_type": "code",
   "execution_count": 28,
   "metadata": {},
   "outputs": [
    {
     "data": {
      "text/plain": [
       "[GBTRegressionModel: uid=GBTRegressor_b4119c566cad, numTrees=6, numFeatures=7,\n",
       " RandomForestRegressionModel: uid=RandomForestRegressor_1ec5abeefe5b, numTrees=20, numFeatures=7,\n",
       " DecisionTreeRegressionModel: uid=DecisionTreeRegressor_b7bcb3bea997, depth=5, numNodes=63, numFeatures=7]"
      ]
     },
     "execution_count": 28,
     "metadata": {},
     "output_type": "execute_result"
    }
   ],
   "source": [
    "best_models"
   ]
  },
  {
   "cell_type": "code",
   "execution_count": 12,
   "metadata": {},
   "outputs": [
    {
     "data": {
      "text/plain": [
       "PipelineModel_d0347b6050b8"
      ]
     },
     "execution_count": 12,
     "metadata": {},
     "output_type": "execute_result"
    }
   ],
   "source": [
    "from pyspark.ml import Pipeline\n",
    "from pyspark.ml.regression import GBTRegressor\n",
    "from pyspark.ml.regression import RandomForestRegressor\n",
    "from pyspark.ml.regression import DecisionTreeRegressor\n",
    "from pyspark.ml.feature import VectorIndexer\n",
    "from pyspark.ml.evaluation import RegressionEvaluator\n",
    "from pyspark.ml.regression import LinearRegression\n",
    "from pyspark.ml.tuning import ParamGridBuilder, TrainValidationSplit\n",
    "\n",
    "\n",
    "def get_features_vector(df): \n",
    "    return VectorAssembler(inputCols=df.columns[:-1], outputCol=\"features\")\n",
    "\n",
    "lr = LinearRegression(featuresCol='features', labelCol='ctr', maxIter=40, regParam=0.4, elasticNetParam=0.8)    \n",
    "gbt = GBTRegressor(featuresCol='features', labelCol='ctr', predictionCol='prediction')\n",
    "rf = RandomForestRegressor(featuresCol='features', labelCol='ctr', predictionCol='prediction')\n",
    "dt = DecisionTreeRegressor(featuresCol='features', labelCol='ctr', predictionCol='prediction', maxDepth=5)    \n",
    "\n",
    "features = get_features_vector(train_df)\n",
    "pipeline = Pipeline(stages=[features])\n",
    "\n",
    "gbt_paramGrid = ParamGridBuilder()\\\n",
    "        .baseOn({pipeline.stages: [features, gbt]}) \\\n",
    "        .addGrid(gbt.maxDepth, [2, 3, 4, 5])\\\n",
    "        .addGrid(gbt.maxIter, [4, 5, 6, 7])\\\n",
    "        .build()\n",
    "#        .addGrid(gbt.numTrees, [3, 6, 9, 12, 15, 18, 20, 22])\\\n",
    "\n",
    "rf_ParamGrid = ParamGridBuilder()\\\n",
    "        .baseOn({pipeline.stages: [features, rf]}) \\\n",
    "        .addGrid(rf.maxDepth, [2, 3, 4, 5])\\\n",
    "        .addGrid(rf.numTrees, [19, 20, 21])\\\n",
    "        .build()\n",
    "\n",
    "dt_paramGrid = ParamGridBuilder()\\\n",
    "        .baseOn({pipeline.stages: [features, dt]}) \\\n",
    "        .addGrid(dt.maxDepth, [4, 5, 6])\\\n",
    "        .addGrid(dt.minInfoGain, [0.0, 0.1, 0.2])\\\n",
    "        .addGrid(dt.maxBins, [25, 28, 32])\\\n",
    "        .build()\n",
    "#        .addGrid(dt.numTrees, [3, 6, 9, 12, 15, 18, 20, 22])\\\n",
    "\n",
    "evaluator = RegressionEvaluator(labelCol=\"ctr\", predictionCol=\"prediction\", metricName=\"rmse\")\n",
    "\n",
    "grids = gbt_paramGrid + rf_ParamGrid + dt_paramGrid\n",
    "\n",
    "tvs = TrainValidationSplit(estimator=pipeline,\n",
    "                           estimatorParamMaps=grids,\n",
    "                           evaluator=evaluator,\n",
    "                           # 80% of the data will be used for training, 20% for validation.\n",
    "                           trainRatio=0.8)\n",
    "\n",
    "# Run TrainValidationSplit, and choose the best set of parameters.\n",
    "model = tvs.fit(train_df)\n",
    "model.bestModel\n"
   ]
  },
  {
   "cell_type": "code",
   "execution_count": 13,
   "metadata": {},
   "outputs": [
    {
     "ename": "TypeError",
     "evalue": "'PipelineModel' object is not subscriptable",
     "output_type": "error",
     "traceback": [
      "\u001b[1;31m---------------------------------------------------------------------------\u001b[0m",
      "\u001b[1;31mTypeError\u001b[0m                                 Traceback (most recent call last)",
      "\u001b[1;32m<ipython-input-13-93990f78ac8d>\u001b[0m in \u001b[0;36m<module>\u001b[1;34m\u001b[0m\n\u001b[1;32m----> 1\u001b[1;33m \u001b[0mmodel\u001b[0m\u001b[1;33m.\u001b[0m\u001b[0mbestModel\u001b[0m\u001b[1;33m[\u001b[0m\u001b[1;36m1\u001b[0m\u001b[1;33m]\u001b[0m\u001b[1;33m\u001b[0m\u001b[1;33m\u001b[0m\u001b[0m\n\u001b[0m",
      "\u001b[1;31mTypeError\u001b[0m: 'PipelineModel' object is not subscriptable"
     ]
    }
   ],
   "source": [
    "model.bestModel[1]"
   ]
  },
  {
   "cell_type": "code",
   "execution_count": 14,
   "metadata": {},
   "outputs": [
    {
     "data": {
      "text/plain": [
       "[0.3063465144953103,\n",
       " 0.29273644193042986,\n",
       " 0.27911211407467856,\n",
       " 0.27127313791864127,\n",
       " 0.16660811072257356,\n",
       " 0.16167661114366336,\n",
       " 0.15587172802154162,\n",
       " 0.1516819300242907,\n",
       " 0.10692592835763047,\n",
       " 0.10478574521871672,\n",
       " 0.10384882889125785,\n",
       " 0.10244866802209669,\n",
       " 0.08268294715321207,\n",
       " 0.08226302253742422,\n",
       " 0.08195370230129641,\n",
       " 0.08146593986270258,\n",
       " 0.3073562211904852,\n",
       " 0.3431017878022488,\n",
       " 0.33645473747267307,\n",
       " 0.1945301742961752,\n",
       " 0.216351416163912,\n",
       " 0.1912762346948329,\n",
       " 0.14782394302111623,\n",
       " 0.15932760654806244,\n",
       " 0.14927588303804062,\n",
       " 0.12716719019940884,\n",
       " 0.12782270695705375,\n",
       " 0.12366418979531946,\n",
       " 0.11586878324132778,\n",
       " 0.11288248812602533,\n",
       " 0.1107071222253666,\n",
       " 0.26622204876468225,\n",
       " 0.266360439578716,\n",
       " 0.2715759195282558,\n",
       " 0.34341053257282733,\n",
       " 0.3431930942506459,\n",
       " 0.3435626840916352,\n",
       " 0.09688867685916056,\n",
       " 0.09109996286664937,\n",
       " 0.08577896721730169,\n",
       " 0.26622204876468225,\n",
       " 0.266360439578716,\n",
       " 0.2715759195282558,\n",
       " 0.34341053257282733,\n",
       " 0.3431930942506459,\n",
       " 0.3435626840916352,\n",
       " 0.09647167591992248,\n",
       " 0.08899057012391555,\n",
       " 0.08188406707655264,\n",
       " 0.26622204876468225,\n",
       " 0.266360439578716,\n",
       " 0.2715759195282558,\n",
       " 0.34341053257282733,\n",
       " 0.3431930942506459,\n",
       " 0.3435626840916352]"
      ]
     },
     "execution_count": 14,
     "metadata": {},
     "output_type": "execute_result"
    }
   ],
   "source": [
    "model.validationMetrics"
   ]
  },
  {
   "cell_type": "code",
   "execution_count": 17,
   "metadata": {},
   "outputs": [
    {
     "data": {
      "text/plain": [
       "[{Param(parent='Pipeline_bb80c029aa8b', name='stages', doc='a list of pipeline stages'): [VectorAssembler_f43983a5e672,\n",
       "   GBTRegressor_367dc82f24e4],\n",
       "  Param(parent='GBTRegressor_367dc82f24e4', name='maxDepth', doc='Maximum depth of the tree. (>= 0) E.g., depth 0 means 1 leaf node; depth 1 means 1 internal node + 2 leaf nodes.'): 2,\n",
       "  Param(parent='GBTRegressor_367dc82f24e4', name='maxIter', doc='max number of iterations (>= 0).'): 4},\n",
       " {Param(parent='Pipeline_bb80c029aa8b', name='stages', doc='a list of pipeline stages'): [VectorAssembler_f43983a5e672,\n",
       "   GBTRegressor_367dc82f24e4],\n",
       "  Param(parent='GBTRegressor_367dc82f24e4', name='maxDepth', doc='Maximum depth of the tree. (>= 0) E.g., depth 0 means 1 leaf node; depth 1 means 1 internal node + 2 leaf nodes.'): 2,\n",
       "  Param(parent='GBTRegressor_367dc82f24e4', name='maxIter', doc='max number of iterations (>= 0).'): 5},\n",
       " {Param(parent='Pipeline_bb80c029aa8b', name='stages', doc='a list of pipeline stages'): [VectorAssembler_f43983a5e672,\n",
       "   GBTRegressor_367dc82f24e4],\n",
       "  Param(parent='GBTRegressor_367dc82f24e4', name='maxDepth', doc='Maximum depth of the tree. (>= 0) E.g., depth 0 means 1 leaf node; depth 1 means 1 internal node + 2 leaf nodes.'): 2,\n",
       "  Param(parent='GBTRegressor_367dc82f24e4', name='maxIter', doc='max number of iterations (>= 0).'): 6},\n",
       " {Param(parent='Pipeline_bb80c029aa8b', name='stages', doc='a list of pipeline stages'): [VectorAssembler_f43983a5e672,\n",
       "   GBTRegressor_367dc82f24e4],\n",
       "  Param(parent='GBTRegressor_367dc82f24e4', name='maxDepth', doc='Maximum depth of the tree. (>= 0) E.g., depth 0 means 1 leaf node; depth 1 means 1 internal node + 2 leaf nodes.'): 2,\n",
       "  Param(parent='GBTRegressor_367dc82f24e4', name='maxIter', doc='max number of iterations (>= 0).'): 7},\n",
       " {Param(parent='Pipeline_bb80c029aa8b', name='stages', doc='a list of pipeline stages'): [VectorAssembler_f43983a5e672,\n",
       "   GBTRegressor_367dc82f24e4],\n",
       "  Param(parent='GBTRegressor_367dc82f24e4', name='maxDepth', doc='Maximum depth of the tree. (>= 0) E.g., depth 0 means 1 leaf node; depth 1 means 1 internal node + 2 leaf nodes.'): 3,\n",
       "  Param(parent='GBTRegressor_367dc82f24e4', name='maxIter', doc='max number of iterations (>= 0).'): 4},\n",
       " {Param(parent='Pipeline_bb80c029aa8b', name='stages', doc='a list of pipeline stages'): [VectorAssembler_f43983a5e672,\n",
       "   GBTRegressor_367dc82f24e4],\n",
       "  Param(parent='GBTRegressor_367dc82f24e4', name='maxDepth', doc='Maximum depth of the tree. (>= 0) E.g., depth 0 means 1 leaf node; depth 1 means 1 internal node + 2 leaf nodes.'): 3,\n",
       "  Param(parent='GBTRegressor_367dc82f24e4', name='maxIter', doc='max number of iterations (>= 0).'): 5},\n",
       " {Param(parent='Pipeline_bb80c029aa8b', name='stages', doc='a list of pipeline stages'): [VectorAssembler_f43983a5e672,\n",
       "   GBTRegressor_367dc82f24e4],\n",
       "  Param(parent='GBTRegressor_367dc82f24e4', name='maxDepth', doc='Maximum depth of the tree. (>= 0) E.g., depth 0 means 1 leaf node; depth 1 means 1 internal node + 2 leaf nodes.'): 3,\n",
       "  Param(parent='GBTRegressor_367dc82f24e4', name='maxIter', doc='max number of iterations (>= 0).'): 6},\n",
       " {Param(parent='Pipeline_bb80c029aa8b', name='stages', doc='a list of pipeline stages'): [VectorAssembler_f43983a5e672,\n",
       "   GBTRegressor_367dc82f24e4],\n",
       "  Param(parent='GBTRegressor_367dc82f24e4', name='maxDepth', doc='Maximum depth of the tree. (>= 0) E.g., depth 0 means 1 leaf node; depth 1 means 1 internal node + 2 leaf nodes.'): 3,\n",
       "  Param(parent='GBTRegressor_367dc82f24e4', name='maxIter', doc='max number of iterations (>= 0).'): 7},\n",
       " {Param(parent='Pipeline_bb80c029aa8b', name='stages', doc='a list of pipeline stages'): [VectorAssembler_f43983a5e672,\n",
       "   GBTRegressor_367dc82f24e4],\n",
       "  Param(parent='GBTRegressor_367dc82f24e4', name='maxDepth', doc='Maximum depth of the tree. (>= 0) E.g., depth 0 means 1 leaf node; depth 1 means 1 internal node + 2 leaf nodes.'): 4,\n",
       "  Param(parent='GBTRegressor_367dc82f24e4', name='maxIter', doc='max number of iterations (>= 0).'): 4},\n",
       " {Param(parent='Pipeline_bb80c029aa8b', name='stages', doc='a list of pipeline stages'): [VectorAssembler_f43983a5e672,\n",
       "   GBTRegressor_367dc82f24e4],\n",
       "  Param(parent='GBTRegressor_367dc82f24e4', name='maxDepth', doc='Maximum depth of the tree. (>= 0) E.g., depth 0 means 1 leaf node; depth 1 means 1 internal node + 2 leaf nodes.'): 4,\n",
       "  Param(parent='GBTRegressor_367dc82f24e4', name='maxIter', doc='max number of iterations (>= 0).'): 5},\n",
       " {Param(parent='Pipeline_bb80c029aa8b', name='stages', doc='a list of pipeline stages'): [VectorAssembler_f43983a5e672,\n",
       "   GBTRegressor_367dc82f24e4],\n",
       "  Param(parent='GBTRegressor_367dc82f24e4', name='maxDepth', doc='Maximum depth of the tree. (>= 0) E.g., depth 0 means 1 leaf node; depth 1 means 1 internal node + 2 leaf nodes.'): 4,\n",
       "  Param(parent='GBTRegressor_367dc82f24e4', name='maxIter', doc='max number of iterations (>= 0).'): 6},\n",
       " {Param(parent='Pipeline_bb80c029aa8b', name='stages', doc='a list of pipeline stages'): [VectorAssembler_f43983a5e672,\n",
       "   GBTRegressor_367dc82f24e4],\n",
       "  Param(parent='GBTRegressor_367dc82f24e4', name='maxDepth', doc='Maximum depth of the tree. (>= 0) E.g., depth 0 means 1 leaf node; depth 1 means 1 internal node + 2 leaf nodes.'): 4,\n",
       "  Param(parent='GBTRegressor_367dc82f24e4', name='maxIter', doc='max number of iterations (>= 0).'): 7},\n",
       " {Param(parent='Pipeline_bb80c029aa8b', name='stages', doc='a list of pipeline stages'): [VectorAssembler_f43983a5e672,\n",
       "   GBTRegressor_367dc82f24e4],\n",
       "  Param(parent='GBTRegressor_367dc82f24e4', name='maxDepth', doc='Maximum depth of the tree. (>= 0) E.g., depth 0 means 1 leaf node; depth 1 means 1 internal node + 2 leaf nodes.'): 5,\n",
       "  Param(parent='GBTRegressor_367dc82f24e4', name='maxIter', doc='max number of iterations (>= 0).'): 4},\n",
       " {Param(parent='Pipeline_bb80c029aa8b', name='stages', doc='a list of pipeline stages'): [VectorAssembler_f43983a5e672,\n",
       "   GBTRegressor_367dc82f24e4],\n",
       "  Param(parent='GBTRegressor_367dc82f24e4', name='maxDepth', doc='Maximum depth of the tree. (>= 0) E.g., depth 0 means 1 leaf node; depth 1 means 1 internal node + 2 leaf nodes.'): 5,\n",
       "  Param(parent='GBTRegressor_367dc82f24e4', name='maxIter', doc='max number of iterations (>= 0).'): 5},\n",
       " {Param(parent='Pipeline_bb80c029aa8b', name='stages', doc='a list of pipeline stages'): [VectorAssembler_f43983a5e672,\n",
       "   GBTRegressor_367dc82f24e4],\n",
       "  Param(parent='GBTRegressor_367dc82f24e4', name='maxDepth', doc='Maximum depth of the tree. (>= 0) E.g., depth 0 means 1 leaf node; depth 1 means 1 internal node + 2 leaf nodes.'): 5,\n",
       "  Param(parent='GBTRegressor_367dc82f24e4', name='maxIter', doc='max number of iterations (>= 0).'): 6},\n",
       " {Param(parent='Pipeline_bb80c029aa8b', name='stages', doc='a list of pipeline stages'): [VectorAssembler_f43983a5e672,\n",
       "   GBTRegressor_367dc82f24e4],\n",
       "  Param(parent='GBTRegressor_367dc82f24e4', name='maxDepth', doc='Maximum depth of the tree. (>= 0) E.g., depth 0 means 1 leaf node; depth 1 means 1 internal node + 2 leaf nodes.'): 5,\n",
       "  Param(parent='GBTRegressor_367dc82f24e4', name='maxIter', doc='max number of iterations (>= 0).'): 7},\n",
       " {Param(parent='Pipeline_bb80c029aa8b', name='stages', doc='a list of pipeline stages'): [VectorAssembler_f43983a5e672,\n",
       "   RandomForestRegressor_6ee0aaefcab2],\n",
       "  Param(parent='RandomForestRegressor_6ee0aaefcab2', name='maxDepth', doc='Maximum depth of the tree. (>= 0) E.g., depth 0 means 1 leaf node; depth 1 means 1 internal node + 2 leaf nodes.'): 2,\n",
       "  Param(parent='RandomForestRegressor_6ee0aaefcab2', name='numTrees', doc='Number of trees to train (>= 1).'): 19},\n",
       " {Param(parent='Pipeline_bb80c029aa8b', name='stages', doc='a list of pipeline stages'): [VectorAssembler_f43983a5e672,\n",
       "   RandomForestRegressor_6ee0aaefcab2],\n",
       "  Param(parent='RandomForestRegressor_6ee0aaefcab2', name='maxDepth', doc='Maximum depth of the tree. (>= 0) E.g., depth 0 means 1 leaf node; depth 1 means 1 internal node + 2 leaf nodes.'): 2,\n",
       "  Param(parent='RandomForestRegressor_6ee0aaefcab2', name='numTrees', doc='Number of trees to train (>= 1).'): 20},\n",
       " {Param(parent='Pipeline_bb80c029aa8b', name='stages', doc='a list of pipeline stages'): [VectorAssembler_f43983a5e672,\n",
       "   RandomForestRegressor_6ee0aaefcab2],\n",
       "  Param(parent='RandomForestRegressor_6ee0aaefcab2', name='maxDepth', doc='Maximum depth of the tree. (>= 0) E.g., depth 0 means 1 leaf node; depth 1 means 1 internal node + 2 leaf nodes.'): 2,\n",
       "  Param(parent='RandomForestRegressor_6ee0aaefcab2', name='numTrees', doc='Number of trees to train (>= 1).'): 21},\n",
       " {Param(parent='Pipeline_bb80c029aa8b', name='stages', doc='a list of pipeline stages'): [VectorAssembler_f43983a5e672,\n",
       "   RandomForestRegressor_6ee0aaefcab2],\n",
       "  Param(parent='RandomForestRegressor_6ee0aaefcab2', name='maxDepth', doc='Maximum depth of the tree. (>= 0) E.g., depth 0 means 1 leaf node; depth 1 means 1 internal node + 2 leaf nodes.'): 3,\n",
       "  Param(parent='RandomForestRegressor_6ee0aaefcab2', name='numTrees', doc='Number of trees to train (>= 1).'): 19},\n",
       " {Param(parent='Pipeline_bb80c029aa8b', name='stages', doc='a list of pipeline stages'): [VectorAssembler_f43983a5e672,\n",
       "   RandomForestRegressor_6ee0aaefcab2],\n",
       "  Param(parent='RandomForestRegressor_6ee0aaefcab2', name='maxDepth', doc='Maximum depth of the tree. (>= 0) E.g., depth 0 means 1 leaf node; depth 1 means 1 internal node + 2 leaf nodes.'): 3,\n",
       "  Param(parent='RandomForestRegressor_6ee0aaefcab2', name='numTrees', doc='Number of trees to train (>= 1).'): 20},\n",
       " {Param(parent='Pipeline_bb80c029aa8b', name='stages', doc='a list of pipeline stages'): [VectorAssembler_f43983a5e672,\n",
       "   RandomForestRegressor_6ee0aaefcab2],\n",
       "  Param(parent='RandomForestRegressor_6ee0aaefcab2', name='maxDepth', doc='Maximum depth of the tree. (>= 0) E.g., depth 0 means 1 leaf node; depth 1 means 1 internal node + 2 leaf nodes.'): 3,\n",
       "  Param(parent='RandomForestRegressor_6ee0aaefcab2', name='numTrees', doc='Number of trees to train (>= 1).'): 21},\n",
       " {Param(parent='Pipeline_bb80c029aa8b', name='stages', doc='a list of pipeline stages'): [VectorAssembler_f43983a5e672,\n",
       "   RandomForestRegressor_6ee0aaefcab2],\n",
       "  Param(parent='RandomForestRegressor_6ee0aaefcab2', name='maxDepth', doc='Maximum depth of the tree. (>= 0) E.g., depth 0 means 1 leaf node; depth 1 means 1 internal node + 2 leaf nodes.'): 4,\n",
       "  Param(parent='RandomForestRegressor_6ee0aaefcab2', name='numTrees', doc='Number of trees to train (>= 1).'): 19},\n",
       " {Param(parent='Pipeline_bb80c029aa8b', name='stages', doc='a list of pipeline stages'): [VectorAssembler_f43983a5e672,\n",
       "   RandomForestRegressor_6ee0aaefcab2],\n",
       "  Param(parent='RandomForestRegressor_6ee0aaefcab2', name='maxDepth', doc='Maximum depth of the tree. (>= 0) E.g., depth 0 means 1 leaf node; depth 1 means 1 internal node + 2 leaf nodes.'): 4,\n",
       "  Param(parent='RandomForestRegressor_6ee0aaefcab2', name='numTrees', doc='Number of trees to train (>= 1).'): 20},\n",
       " {Param(parent='Pipeline_bb80c029aa8b', name='stages', doc='a list of pipeline stages'): [VectorAssembler_f43983a5e672,\n",
       "   RandomForestRegressor_6ee0aaefcab2],\n",
       "  Param(parent='RandomForestRegressor_6ee0aaefcab2', name='maxDepth', doc='Maximum depth of the tree. (>= 0) E.g., depth 0 means 1 leaf node; depth 1 means 1 internal node + 2 leaf nodes.'): 4,\n",
       "  Param(parent='RandomForestRegressor_6ee0aaefcab2', name='numTrees', doc='Number of trees to train (>= 1).'): 21},\n",
       " {Param(parent='Pipeline_bb80c029aa8b', name='stages', doc='a list of pipeline stages'): [VectorAssembler_f43983a5e672,\n",
       "   RandomForestRegressor_6ee0aaefcab2],\n",
       "  Param(parent='RandomForestRegressor_6ee0aaefcab2', name='maxDepth', doc='Maximum depth of the tree. (>= 0) E.g., depth 0 means 1 leaf node; depth 1 means 1 internal node + 2 leaf nodes.'): 5,\n",
       "  Param(parent='RandomForestRegressor_6ee0aaefcab2', name='numTrees', doc='Number of trees to train (>= 1).'): 19},\n",
       " {Param(parent='Pipeline_bb80c029aa8b', name='stages', doc='a list of pipeline stages'): [VectorAssembler_f43983a5e672,\n",
       "   RandomForestRegressor_6ee0aaefcab2],\n",
       "  Param(parent='RandomForestRegressor_6ee0aaefcab2', name='maxDepth', doc='Maximum depth of the tree. (>= 0) E.g., depth 0 means 1 leaf node; depth 1 means 1 internal node + 2 leaf nodes.'): 5,\n",
       "  Param(parent='RandomForestRegressor_6ee0aaefcab2', name='numTrees', doc='Number of trees to train (>= 1).'): 20},\n",
       " {Param(parent='Pipeline_bb80c029aa8b', name='stages', doc='a list of pipeline stages'): [VectorAssembler_f43983a5e672,\n",
       "   RandomForestRegressor_6ee0aaefcab2],\n",
       "  Param(parent='RandomForestRegressor_6ee0aaefcab2', name='maxDepth', doc='Maximum depth of the tree. (>= 0) E.g., depth 0 means 1 leaf node; depth 1 means 1 internal node + 2 leaf nodes.'): 5,\n",
       "  Param(parent='RandomForestRegressor_6ee0aaefcab2', name='numTrees', doc='Number of trees to train (>= 1).'): 21},\n",
       " {Param(parent='Pipeline_bb80c029aa8b', name='stages', doc='a list of pipeline stages'): [VectorAssembler_f43983a5e672,\n",
       "   DecisionTreeRegressor_8f7ca8baa1cc],\n",
       "  Param(parent='DecisionTreeRegressor_8f7ca8baa1cc', name='maxDepth', doc='Maximum depth of the tree. (>= 0) E.g., depth 0 means 1 leaf node; depth 1 means 1 internal node + 2 leaf nodes.'): 4,\n",
       "  Param(parent='DecisionTreeRegressor_8f7ca8baa1cc', name='minInfoGain', doc='Minimum information gain for a split to be considered at a tree node.'): 0.0,\n",
       "  Param(parent='DecisionTreeRegressor_8f7ca8baa1cc', name='maxBins', doc='Max number of bins for discretizing continuous features.  Must be >=2 and >= number of categories for any categorical feature.'): 25},\n",
       " {Param(parent='Pipeline_bb80c029aa8b', name='stages', doc='a list of pipeline stages'): [VectorAssembler_f43983a5e672,\n",
       "   DecisionTreeRegressor_8f7ca8baa1cc],\n",
       "  Param(parent='DecisionTreeRegressor_8f7ca8baa1cc', name='maxDepth', doc='Maximum depth of the tree. (>= 0) E.g., depth 0 means 1 leaf node; depth 1 means 1 internal node + 2 leaf nodes.'): 4,\n",
       "  Param(parent='DecisionTreeRegressor_8f7ca8baa1cc', name='minInfoGain', doc='Minimum information gain for a split to be considered at a tree node.'): 0.0,\n",
       "  Param(parent='DecisionTreeRegressor_8f7ca8baa1cc', name='maxBins', doc='Max number of bins for discretizing continuous features.  Must be >=2 and >= number of categories for any categorical feature.'): 28},\n",
       " {Param(parent='Pipeline_bb80c029aa8b', name='stages', doc='a list of pipeline stages'): [VectorAssembler_f43983a5e672,\n",
       "   DecisionTreeRegressor_8f7ca8baa1cc],\n",
       "  Param(parent='DecisionTreeRegressor_8f7ca8baa1cc', name='maxDepth', doc='Maximum depth of the tree. (>= 0) E.g., depth 0 means 1 leaf node; depth 1 means 1 internal node + 2 leaf nodes.'): 4,\n",
       "  Param(parent='DecisionTreeRegressor_8f7ca8baa1cc', name='minInfoGain', doc='Minimum information gain for a split to be considered at a tree node.'): 0.0,\n",
       "  Param(parent='DecisionTreeRegressor_8f7ca8baa1cc', name='maxBins', doc='Max number of bins for discretizing continuous features.  Must be >=2 and >= number of categories for any categorical feature.'): 32},\n",
       " {Param(parent='Pipeline_bb80c029aa8b', name='stages', doc='a list of pipeline stages'): [VectorAssembler_f43983a5e672,\n",
       "   DecisionTreeRegressor_8f7ca8baa1cc],\n",
       "  Param(parent='DecisionTreeRegressor_8f7ca8baa1cc', name='maxDepth', doc='Maximum depth of the tree. (>= 0) E.g., depth 0 means 1 leaf node; depth 1 means 1 internal node + 2 leaf nodes.'): 4,\n",
       "  Param(parent='DecisionTreeRegressor_8f7ca8baa1cc', name='minInfoGain', doc='Minimum information gain for a split to be considered at a tree node.'): 0.1,\n",
       "  Param(parent='DecisionTreeRegressor_8f7ca8baa1cc', name='maxBins', doc='Max number of bins for discretizing continuous features.  Must be >=2 and >= number of categories for any categorical feature.'): 25},\n",
       " {Param(parent='Pipeline_bb80c029aa8b', name='stages', doc='a list of pipeline stages'): [VectorAssembler_f43983a5e672,\n",
       "   DecisionTreeRegressor_8f7ca8baa1cc],\n",
       "  Param(parent='DecisionTreeRegressor_8f7ca8baa1cc', name='maxDepth', doc='Maximum depth of the tree. (>= 0) E.g., depth 0 means 1 leaf node; depth 1 means 1 internal node + 2 leaf nodes.'): 4,\n",
       "  Param(parent='DecisionTreeRegressor_8f7ca8baa1cc', name='minInfoGain', doc='Minimum information gain for a split to be considered at a tree node.'): 0.1,\n",
       "  Param(parent='DecisionTreeRegressor_8f7ca8baa1cc', name='maxBins', doc='Max number of bins for discretizing continuous features.  Must be >=2 and >= number of categories for any categorical feature.'): 28},\n",
       " {Param(parent='Pipeline_bb80c029aa8b', name='stages', doc='a list of pipeline stages'): [VectorAssembler_f43983a5e672,\n",
       "   DecisionTreeRegressor_8f7ca8baa1cc],\n",
       "  Param(parent='DecisionTreeRegressor_8f7ca8baa1cc', name='maxDepth', doc='Maximum depth of the tree. (>= 0) E.g., depth 0 means 1 leaf node; depth 1 means 1 internal node + 2 leaf nodes.'): 4,\n",
       "  Param(parent='DecisionTreeRegressor_8f7ca8baa1cc', name='minInfoGain', doc='Minimum information gain for a split to be considered at a tree node.'): 0.1,\n",
       "  Param(parent='DecisionTreeRegressor_8f7ca8baa1cc', name='maxBins', doc='Max number of bins for discretizing continuous features.  Must be >=2 and >= number of categories for any categorical feature.'): 32},\n",
       " {Param(parent='Pipeline_bb80c029aa8b', name='stages', doc='a list of pipeline stages'): [VectorAssembler_f43983a5e672,\n",
       "   DecisionTreeRegressor_8f7ca8baa1cc],\n",
       "  Param(parent='DecisionTreeRegressor_8f7ca8baa1cc', name='maxDepth', doc='Maximum depth of the tree. (>= 0) E.g., depth 0 means 1 leaf node; depth 1 means 1 internal node + 2 leaf nodes.'): 4,\n",
       "  Param(parent='DecisionTreeRegressor_8f7ca8baa1cc', name='minInfoGain', doc='Minimum information gain for a split to be considered at a tree node.'): 0.2,\n",
       "  Param(parent='DecisionTreeRegressor_8f7ca8baa1cc', name='maxBins', doc='Max number of bins for discretizing continuous features.  Must be >=2 and >= number of categories for any categorical feature.'): 25},\n",
       " {Param(parent='Pipeline_bb80c029aa8b', name='stages', doc='a list of pipeline stages'): [VectorAssembler_f43983a5e672,\n",
       "   DecisionTreeRegressor_8f7ca8baa1cc],\n",
       "  Param(parent='DecisionTreeRegressor_8f7ca8baa1cc', name='maxDepth', doc='Maximum depth of the tree. (>= 0) E.g., depth 0 means 1 leaf node; depth 1 means 1 internal node + 2 leaf nodes.'): 4,\n",
       "  Param(parent='DecisionTreeRegressor_8f7ca8baa1cc', name='minInfoGain', doc='Minimum information gain for a split to be considered at a tree node.'): 0.2,\n",
       "  Param(parent='DecisionTreeRegressor_8f7ca8baa1cc', name='maxBins', doc='Max number of bins for discretizing continuous features.  Must be >=2 and >= number of categories for any categorical feature.'): 28},\n",
       " {Param(parent='Pipeline_bb80c029aa8b', name='stages', doc='a list of pipeline stages'): [VectorAssembler_f43983a5e672,\n",
       "   DecisionTreeRegressor_8f7ca8baa1cc],\n",
       "  Param(parent='DecisionTreeRegressor_8f7ca8baa1cc', name='maxDepth', doc='Maximum depth of the tree. (>= 0) E.g., depth 0 means 1 leaf node; depth 1 means 1 internal node + 2 leaf nodes.'): 4,\n",
       "  Param(parent='DecisionTreeRegressor_8f7ca8baa1cc', name='minInfoGain', doc='Minimum information gain for a split to be considered at a tree node.'): 0.2,\n",
       "  Param(parent='DecisionTreeRegressor_8f7ca8baa1cc', name='maxBins', doc='Max number of bins for discretizing continuous features.  Must be >=2 and >= number of categories for any categorical feature.'): 32},\n",
       " {Param(parent='Pipeline_bb80c029aa8b', name='stages', doc='a list of pipeline stages'): [VectorAssembler_f43983a5e672,\n",
       "   DecisionTreeRegressor_8f7ca8baa1cc],\n",
       "  Param(parent='DecisionTreeRegressor_8f7ca8baa1cc', name='maxDepth', doc='Maximum depth of the tree. (>= 0) E.g., depth 0 means 1 leaf node; depth 1 means 1 internal node + 2 leaf nodes.'): 5,\n",
       "  Param(parent='DecisionTreeRegressor_8f7ca8baa1cc', name='minInfoGain', doc='Minimum information gain for a split to be considered at a tree node.'): 0.0,\n",
       "  Param(parent='DecisionTreeRegressor_8f7ca8baa1cc', name='maxBins', doc='Max number of bins for discretizing continuous features.  Must be >=2 and >= number of categories for any categorical feature.'): 25},\n",
       " {Param(parent='Pipeline_bb80c029aa8b', name='stages', doc='a list of pipeline stages'): [VectorAssembler_f43983a5e672,\n",
       "   DecisionTreeRegressor_8f7ca8baa1cc],\n",
       "  Param(parent='DecisionTreeRegressor_8f7ca8baa1cc', name='maxDepth', doc='Maximum depth of the tree. (>= 0) E.g., depth 0 means 1 leaf node; depth 1 means 1 internal node + 2 leaf nodes.'): 5,\n",
       "  Param(parent='DecisionTreeRegressor_8f7ca8baa1cc', name='minInfoGain', doc='Minimum information gain for a split to be considered at a tree node.'): 0.0,\n",
       "  Param(parent='DecisionTreeRegressor_8f7ca8baa1cc', name='maxBins', doc='Max number of bins for discretizing continuous features.  Must be >=2 and >= number of categories for any categorical feature.'): 28},\n",
       " {Param(parent='Pipeline_bb80c029aa8b', name='stages', doc='a list of pipeline stages'): [VectorAssembler_f43983a5e672,\n",
       "   DecisionTreeRegressor_8f7ca8baa1cc],\n",
       "  Param(parent='DecisionTreeRegressor_8f7ca8baa1cc', name='maxDepth', doc='Maximum depth of the tree. (>= 0) E.g., depth 0 means 1 leaf node; depth 1 means 1 internal node + 2 leaf nodes.'): 5,\n",
       "  Param(parent='DecisionTreeRegressor_8f7ca8baa1cc', name='minInfoGain', doc='Minimum information gain for a split to be considered at a tree node.'): 0.0,\n",
       "  Param(parent='DecisionTreeRegressor_8f7ca8baa1cc', name='maxBins', doc='Max number of bins for discretizing continuous features.  Must be >=2 and >= number of categories for any categorical feature.'): 32},\n",
       " {Param(parent='Pipeline_bb80c029aa8b', name='stages', doc='a list of pipeline stages'): [VectorAssembler_f43983a5e672,\n",
       "   DecisionTreeRegressor_8f7ca8baa1cc],\n",
       "  Param(parent='DecisionTreeRegressor_8f7ca8baa1cc', name='maxDepth', doc='Maximum depth of the tree. (>= 0) E.g., depth 0 means 1 leaf node; depth 1 means 1 internal node + 2 leaf nodes.'): 5,\n",
       "  Param(parent='DecisionTreeRegressor_8f7ca8baa1cc', name='minInfoGain', doc='Minimum information gain for a split to be considered at a tree node.'): 0.1,\n",
       "  Param(parent='DecisionTreeRegressor_8f7ca8baa1cc', name='maxBins', doc='Max number of bins for discretizing continuous features.  Must be >=2 and >= number of categories for any categorical feature.'): 25},\n",
       " {Param(parent='Pipeline_bb80c029aa8b', name='stages', doc='a list of pipeline stages'): [VectorAssembler_f43983a5e672,\n",
       "   DecisionTreeRegressor_8f7ca8baa1cc],\n",
       "  Param(parent='DecisionTreeRegressor_8f7ca8baa1cc', name='maxDepth', doc='Maximum depth of the tree. (>= 0) E.g., depth 0 means 1 leaf node; depth 1 means 1 internal node + 2 leaf nodes.'): 5,\n",
       "  Param(parent='DecisionTreeRegressor_8f7ca8baa1cc', name='minInfoGain', doc='Minimum information gain for a split to be considered at a tree node.'): 0.1,\n",
       "  Param(parent='DecisionTreeRegressor_8f7ca8baa1cc', name='maxBins', doc='Max number of bins for discretizing continuous features.  Must be >=2 and >= number of categories for any categorical feature.'): 28},\n",
       " {Param(parent='Pipeline_bb80c029aa8b', name='stages', doc='a list of pipeline stages'): [VectorAssembler_f43983a5e672,\n",
       "   DecisionTreeRegressor_8f7ca8baa1cc],\n",
       "  Param(parent='DecisionTreeRegressor_8f7ca8baa1cc', name='maxDepth', doc='Maximum depth of the tree. (>= 0) E.g., depth 0 means 1 leaf node; depth 1 means 1 internal node + 2 leaf nodes.'): 5,\n",
       "  Param(parent='DecisionTreeRegressor_8f7ca8baa1cc', name='minInfoGain', doc='Minimum information gain for a split to be considered at a tree node.'): 0.1,\n",
       "  Param(parent='DecisionTreeRegressor_8f7ca8baa1cc', name='maxBins', doc='Max number of bins for discretizing continuous features.  Must be >=2 and >= number of categories for any categorical feature.'): 32},\n",
       " {Param(parent='Pipeline_bb80c029aa8b', name='stages', doc='a list of pipeline stages'): [VectorAssembler_f43983a5e672,\n",
       "   DecisionTreeRegressor_8f7ca8baa1cc],\n",
       "  Param(parent='DecisionTreeRegressor_8f7ca8baa1cc', name='maxDepth', doc='Maximum depth of the tree. (>= 0) E.g., depth 0 means 1 leaf node; depth 1 means 1 internal node + 2 leaf nodes.'): 5,\n",
       "  Param(parent='DecisionTreeRegressor_8f7ca8baa1cc', name='minInfoGain', doc='Minimum information gain for a split to be considered at a tree node.'): 0.2,\n",
       "  Param(parent='DecisionTreeRegressor_8f7ca8baa1cc', name='maxBins', doc='Max number of bins for discretizing continuous features.  Must be >=2 and >= number of categories for any categorical feature.'): 25},\n",
       " {Param(parent='Pipeline_bb80c029aa8b', name='stages', doc='a list of pipeline stages'): [VectorAssembler_f43983a5e672,\n",
       "   DecisionTreeRegressor_8f7ca8baa1cc],\n",
       "  Param(parent='DecisionTreeRegressor_8f7ca8baa1cc', name='maxDepth', doc='Maximum depth of the tree. (>= 0) E.g., depth 0 means 1 leaf node; depth 1 means 1 internal node + 2 leaf nodes.'): 5,\n",
       "  Param(parent='DecisionTreeRegressor_8f7ca8baa1cc', name='minInfoGain', doc='Minimum information gain for a split to be considered at a tree node.'): 0.2,\n",
       "  Param(parent='DecisionTreeRegressor_8f7ca8baa1cc', name='maxBins', doc='Max number of bins for discretizing continuous features.  Must be >=2 and >= number of categories for any categorical feature.'): 28},\n",
       " {Param(parent='Pipeline_bb80c029aa8b', name='stages', doc='a list of pipeline stages'): [VectorAssembler_f43983a5e672,\n",
       "   DecisionTreeRegressor_8f7ca8baa1cc],\n",
       "  Param(parent='DecisionTreeRegressor_8f7ca8baa1cc', name='maxDepth', doc='Maximum depth of the tree. (>= 0) E.g., depth 0 means 1 leaf node; depth 1 means 1 internal node + 2 leaf nodes.'): 5,\n",
       "  Param(parent='DecisionTreeRegressor_8f7ca8baa1cc', name='minInfoGain', doc='Minimum information gain for a split to be considered at a tree node.'): 0.2,\n",
       "  Param(parent='DecisionTreeRegressor_8f7ca8baa1cc', name='maxBins', doc='Max number of bins for discretizing continuous features.  Must be >=2 and >= number of categories for any categorical feature.'): 32},\n",
       " {Param(parent='Pipeline_bb80c029aa8b', name='stages', doc='a list of pipeline stages'): [VectorAssembler_f43983a5e672,\n",
       "   DecisionTreeRegressor_8f7ca8baa1cc],\n",
       "  Param(parent='DecisionTreeRegressor_8f7ca8baa1cc', name='maxDepth', doc='Maximum depth of the tree. (>= 0) E.g., depth 0 means 1 leaf node; depth 1 means 1 internal node + 2 leaf nodes.'): 6,\n",
       "  Param(parent='DecisionTreeRegressor_8f7ca8baa1cc', name='minInfoGain', doc='Minimum information gain for a split to be considered at a tree node.'): 0.0,\n",
       "  Param(parent='DecisionTreeRegressor_8f7ca8baa1cc', name='maxBins', doc='Max number of bins for discretizing continuous features.  Must be >=2 and >= number of categories for any categorical feature.'): 25},\n",
       " {Param(parent='Pipeline_bb80c029aa8b', name='stages', doc='a list of pipeline stages'): [VectorAssembler_f43983a5e672,\n",
       "   DecisionTreeRegressor_8f7ca8baa1cc],\n",
       "  Param(parent='DecisionTreeRegressor_8f7ca8baa1cc', name='maxDepth', doc='Maximum depth of the tree. (>= 0) E.g., depth 0 means 1 leaf node; depth 1 means 1 internal node + 2 leaf nodes.'): 6,\n",
       "  Param(parent='DecisionTreeRegressor_8f7ca8baa1cc', name='minInfoGain', doc='Minimum information gain for a split to be considered at a tree node.'): 0.0,\n",
       "  Param(parent='DecisionTreeRegressor_8f7ca8baa1cc', name='maxBins', doc='Max number of bins for discretizing continuous features.  Must be >=2 and >= number of categories for any categorical feature.'): 28},\n",
       " {Param(parent='Pipeline_bb80c029aa8b', name='stages', doc='a list of pipeline stages'): [VectorAssembler_f43983a5e672,\n",
       "   DecisionTreeRegressor_8f7ca8baa1cc],\n",
       "  Param(parent='DecisionTreeRegressor_8f7ca8baa1cc', name='maxDepth', doc='Maximum depth of the tree. (>= 0) E.g., depth 0 means 1 leaf node; depth 1 means 1 internal node + 2 leaf nodes.'): 6,\n",
       "  Param(parent='DecisionTreeRegressor_8f7ca8baa1cc', name='minInfoGain', doc='Minimum information gain for a split to be considered at a tree node.'): 0.0,\n",
       "  Param(parent='DecisionTreeRegressor_8f7ca8baa1cc', name='maxBins', doc='Max number of bins for discretizing continuous features.  Must be >=2 and >= number of categories for any categorical feature.'): 32},\n",
       " {Param(parent='Pipeline_bb80c029aa8b', name='stages', doc='a list of pipeline stages'): [VectorAssembler_f43983a5e672,\n",
       "   DecisionTreeRegressor_8f7ca8baa1cc],\n",
       "  Param(parent='DecisionTreeRegressor_8f7ca8baa1cc', name='maxDepth', doc='Maximum depth of the tree. (>= 0) E.g., depth 0 means 1 leaf node; depth 1 means 1 internal node + 2 leaf nodes.'): 6,\n",
       "  Param(parent='DecisionTreeRegressor_8f7ca8baa1cc', name='minInfoGain', doc='Minimum information gain for a split to be considered at a tree node.'): 0.1,\n",
       "  Param(parent='DecisionTreeRegressor_8f7ca8baa1cc', name='maxBins', doc='Max number of bins for discretizing continuous features.  Must be >=2 and >= number of categories for any categorical feature.'): 25},\n",
       " {Param(parent='Pipeline_bb80c029aa8b', name='stages', doc='a list of pipeline stages'): [VectorAssembler_f43983a5e672,\n",
       "   DecisionTreeRegressor_8f7ca8baa1cc],\n",
       "  Param(parent='DecisionTreeRegressor_8f7ca8baa1cc', name='maxDepth', doc='Maximum depth of the tree. (>= 0) E.g., depth 0 means 1 leaf node; depth 1 means 1 internal node + 2 leaf nodes.'): 6,\n",
       "  Param(parent='DecisionTreeRegressor_8f7ca8baa1cc', name='minInfoGain', doc='Minimum information gain for a split to be considered at a tree node.'): 0.1,\n",
       "  Param(parent='DecisionTreeRegressor_8f7ca8baa1cc', name='maxBins', doc='Max number of bins for discretizing continuous features.  Must be >=2 and >= number of categories for any categorical feature.'): 28},\n",
       " {Param(parent='Pipeline_bb80c029aa8b', name='stages', doc='a list of pipeline stages'): [VectorAssembler_f43983a5e672,\n",
       "   DecisionTreeRegressor_8f7ca8baa1cc],\n",
       "  Param(parent='DecisionTreeRegressor_8f7ca8baa1cc', name='maxDepth', doc='Maximum depth of the tree. (>= 0) E.g., depth 0 means 1 leaf node; depth 1 means 1 internal node + 2 leaf nodes.'): 6,\n",
       "  Param(parent='DecisionTreeRegressor_8f7ca8baa1cc', name='minInfoGain', doc='Minimum information gain for a split to be considered at a tree node.'): 0.1,\n",
       "  Param(parent='DecisionTreeRegressor_8f7ca8baa1cc', name='maxBins', doc='Max number of bins for discretizing continuous features.  Must be >=2 and >= number of categories for any categorical feature.'): 32},\n",
       " {Param(parent='Pipeline_bb80c029aa8b', name='stages', doc='a list of pipeline stages'): [VectorAssembler_f43983a5e672,\n",
       "   DecisionTreeRegressor_8f7ca8baa1cc],\n",
       "  Param(parent='DecisionTreeRegressor_8f7ca8baa1cc', name='maxDepth', doc='Maximum depth of the tree. (>= 0) E.g., depth 0 means 1 leaf node; depth 1 means 1 internal node + 2 leaf nodes.'): 6,\n",
       "  Param(parent='DecisionTreeRegressor_8f7ca8baa1cc', name='minInfoGain', doc='Minimum information gain for a split to be considered at a tree node.'): 0.2,\n",
       "  Param(parent='DecisionTreeRegressor_8f7ca8baa1cc', name='maxBins', doc='Max number of bins for discretizing continuous features.  Must be >=2 and >= number of categories for any categorical feature.'): 25},\n",
       " {Param(parent='Pipeline_bb80c029aa8b', name='stages', doc='a list of pipeline stages'): [VectorAssembler_f43983a5e672,\n",
       "   DecisionTreeRegressor_8f7ca8baa1cc],\n",
       "  Param(parent='DecisionTreeRegressor_8f7ca8baa1cc', name='maxDepth', doc='Maximum depth of the tree. (>= 0) E.g., depth 0 means 1 leaf node; depth 1 means 1 internal node + 2 leaf nodes.'): 6,\n",
       "  Param(parent='DecisionTreeRegressor_8f7ca8baa1cc', name='minInfoGain', doc='Minimum information gain for a split to be considered at a tree node.'): 0.2,\n",
       "  Param(parent='DecisionTreeRegressor_8f7ca8baa1cc', name='maxBins', doc='Max number of bins for discretizing continuous features.  Must be >=2 and >= number of categories for any categorical feature.'): 28},\n",
       " {Param(parent='Pipeline_bb80c029aa8b', name='stages', doc='a list of pipeline stages'): [VectorAssembler_f43983a5e672,\n",
       "   DecisionTreeRegressor_8f7ca8baa1cc],\n",
       "  Param(parent='DecisionTreeRegressor_8f7ca8baa1cc', name='maxDepth', doc='Maximum depth of the tree. (>= 0) E.g., depth 0 means 1 leaf node; depth 1 means 1 internal node + 2 leaf nodes.'): 6,\n",
       "  Param(parent='DecisionTreeRegressor_8f7ca8baa1cc', name='minInfoGain', doc='Minimum information gain for a split to be considered at a tree node.'): 0.2,\n",
       "  Param(parent='DecisionTreeRegressor_8f7ca8baa1cc', name='maxBins', doc='Max number of bins for discretizing continuous features.  Must be >=2 and >= number of categories for any categorical feature.'): 32}]"
      ]
     },
     "execution_count": 17,
     "metadata": {},
     "output_type": "execute_result"
    }
   ],
   "source": [
    "model.getEstimatorParamMaps()\n"
   ]
  },
  {
   "cell_type": "code",
   "execution_count": 21,
   "metadata": {},
   "outputs": [
    {
     "data": {
      "text/plain": [
       "GBTRegressionModel: uid=GBTRegressor_367dc82f24e4, numTrees=7, numFeatures=7"
      ]
     },
     "execution_count": 21,
     "metadata": {},
     "output_type": "execute_result"
    }
   ],
   "source": [
    "model.bestModel.stages[1]"
   ]
  },
  {
   "cell_type": "code",
   "execution_count": 25,
   "metadata": {},
   "outputs": [
    {
     "data": {
      "text/plain": [
       "{Param(parent='Pipeline_bb80c029aa8b', name='stages', doc='a list of pipeline stages'): [VectorAssembler_f43983a5e672,\n",
       "  GBTRegressor_367dc82f24e4],\n",
       " Param(parent='GBTRegressor_367dc82f24e4', name='maxDepth', doc='Maximum depth of the tree. (>= 0) E.g., depth 0 means 1 leaf node; depth 1 means 1 internal node + 2 leaf nodes.'): 5,\n",
       " Param(parent='GBTRegressor_367dc82f24e4', name='maxIter', doc='max number of iterations (>= 0).'): 7}"
      ]
     },
     "execution_count": 25,
     "metadata": {},
     "output_type": "execute_result"
    }
   ],
   "source": [
    "import numpy as np\n",
    "model.getEstimatorParamMaps()[ np.argmin(model.validationMetrics) ]\n"
   ]
  },
  {
   "cell_type": "code",
   "execution_count": 27,
   "metadata": {},
   "outputs": [
    {
     "data": {
      "text/plain": [
       "0.08146593986270258"
      ]
     },
     "execution_count": 27,
     "metadata": {},
     "output_type": "execute_result"
    }
   ],
   "source": [
    "np.min(model.validationMetrics)"
   ]
  },
  {
   "cell_type": "code",
   "execution_count": null,
   "metadata": {},
   "outputs": [],
   "source": [
    "val cvModel = cv.fit(training)\n",
    "cvModel.getEstimatorParamMaps.zip(cvModel.avgMetrics)"
   ]
  },
  {
   "cell_type": "code",
   "execution_count": 32,
   "metadata": {},
   "outputs": [],
   "source": [
    "df = model.bestModel.transform(test_df)"
   ]
  },
  {
   "cell_type": "code",
   "execution_count": 35,
   "metadata": {},
   "outputs": [],
   "source": [
    "test_rmse = evaluator.evaluate(df)"
   ]
  },
  {
   "cell_type": "code",
   "execution_count": 36,
   "metadata": {},
   "outputs": [
    {
     "name": "stdout",
     "output_type": "stream",
     "text": [
      "Test data RMSE: 0.080700\n"
     ]
    }
   ],
   "source": [
    "print(\"Test data RMSE: %f\" % round(test_rmse, 4))"
   ]
  },
  {
   "cell_type": "code",
   "execution_count": 43,
   "metadata": {},
   "outputs": [],
   "source": [
    "\n",
    "from pyspark.ml.pipeline import PipelineModel\n",
    "\n",
    "p_model = model\n",
    "p_model.write().overwrite().save('spark_ml_model')\n",
    "model = PipelineModel.load('spark_ml_model')\n",
    "prediction = p_model.transform(test_df)\n"
   ]
  },
  {
   "cell_type": "code",
   "execution_count": 44,
   "metadata": {},
   "outputs": [
    {
     "data": {
      "text/plain": [
       "pyspark.sql.dataframe.DataFrame"
      ]
     },
     "execution_count": 44,
     "metadata": {},
     "output_type": "execute_result"
    }
   ],
   "source": [
    "type(prediction)"
   ]
  },
  {
   "cell_type": "code",
   "execution_count": 45,
   "metadata": {},
   "outputs": [],
   "source": [
    "test_rmse = evaluator.evaluate(prediction)"
   ]
  },
  {
   "cell_type": "code",
   "execution_count": 46,
   "metadata": {},
   "outputs": [
    {
     "name": "stdout",
     "output_type": "stream",
     "text": [
      "Test data RMSE: 0.080700\n"
     ]
    }
   ],
   "source": [
    "print(\"Test data RMSE: %f\" % round(test_rmse, 4))"
   ]
  },
  {
   "cell_type": "code",
   "execution_count": 53,
   "metadata": {},
   "outputs": [
    {
     "data": {
      "text/plain": [
       "[('gbt',\n",
       "  [{Param(parent='Pipeline_bb80c029aa8b', name='stages', doc='a list of pipeline stages'): [VectorAssembler_f43983a5e672,\n",
       "     GBTRegressor_367dc82f24e4],\n",
       "    Param(parent='GBTRegressor_367dc82f24e4', name='maxDepth', doc='Maximum depth of the tree. (>= 0) E.g., depth 0 means 1 leaf node; depth 1 means 1 internal node + 2 leaf nodes.'): 2,\n",
       "    Param(parent='GBTRegressor_367dc82f24e4', name='maxIter', doc='max number of iterations (>= 0).'): 4},\n",
       "   {Param(parent='Pipeline_bb80c029aa8b', name='stages', doc='a list of pipeline stages'): [VectorAssembler_f43983a5e672,\n",
       "     GBTRegressor_367dc82f24e4],\n",
       "    Param(parent='GBTRegressor_367dc82f24e4', name='maxDepth', doc='Maximum depth of the tree. (>= 0) E.g., depth 0 means 1 leaf node; depth 1 means 1 internal node + 2 leaf nodes.'): 2,\n",
       "    Param(parent='GBTRegressor_367dc82f24e4', name='maxIter', doc='max number of iterations (>= 0).'): 5},\n",
       "   {Param(parent='Pipeline_bb80c029aa8b', name='stages', doc='a list of pipeline stages'): [VectorAssembler_f43983a5e672,\n",
       "     GBTRegressor_367dc82f24e4],\n",
       "    Param(parent='GBTRegressor_367dc82f24e4', name='maxDepth', doc='Maximum depth of the tree. (>= 0) E.g., depth 0 means 1 leaf node; depth 1 means 1 internal node + 2 leaf nodes.'): 2,\n",
       "    Param(parent='GBTRegressor_367dc82f24e4', name='maxIter', doc='max number of iterations (>= 0).'): 6},\n",
       "   {Param(parent='Pipeline_bb80c029aa8b', name='stages', doc='a list of pipeline stages'): [VectorAssembler_f43983a5e672,\n",
       "     GBTRegressor_367dc82f24e4],\n",
       "    Param(parent='GBTRegressor_367dc82f24e4', name='maxDepth', doc='Maximum depth of the tree. (>= 0) E.g., depth 0 means 1 leaf node; depth 1 means 1 internal node + 2 leaf nodes.'): 2,\n",
       "    Param(parent='GBTRegressor_367dc82f24e4', name='maxIter', doc='max number of iterations (>= 0).'): 7},\n",
       "   {Param(parent='Pipeline_bb80c029aa8b', name='stages', doc='a list of pipeline stages'): [VectorAssembler_f43983a5e672,\n",
       "     GBTRegressor_367dc82f24e4],\n",
       "    Param(parent='GBTRegressor_367dc82f24e4', name='maxDepth', doc='Maximum depth of the tree. (>= 0) E.g., depth 0 means 1 leaf node; depth 1 means 1 internal node + 2 leaf nodes.'): 3,\n",
       "    Param(parent='GBTRegressor_367dc82f24e4', name='maxIter', doc='max number of iterations (>= 0).'): 4},\n",
       "   {Param(parent='Pipeline_bb80c029aa8b', name='stages', doc='a list of pipeline stages'): [VectorAssembler_f43983a5e672,\n",
       "     GBTRegressor_367dc82f24e4],\n",
       "    Param(parent='GBTRegressor_367dc82f24e4', name='maxDepth', doc='Maximum depth of the tree. (>= 0) E.g., depth 0 means 1 leaf node; depth 1 means 1 internal node + 2 leaf nodes.'): 3,\n",
       "    Param(parent='GBTRegressor_367dc82f24e4', name='maxIter', doc='max number of iterations (>= 0).'): 5},\n",
       "   {Param(parent='Pipeline_bb80c029aa8b', name='stages', doc='a list of pipeline stages'): [VectorAssembler_f43983a5e672,\n",
       "     GBTRegressor_367dc82f24e4],\n",
       "    Param(parent='GBTRegressor_367dc82f24e4', name='maxDepth', doc='Maximum depth of the tree. (>= 0) E.g., depth 0 means 1 leaf node; depth 1 means 1 internal node + 2 leaf nodes.'): 3,\n",
       "    Param(parent='GBTRegressor_367dc82f24e4', name='maxIter', doc='max number of iterations (>= 0).'): 6},\n",
       "   {Param(parent='Pipeline_bb80c029aa8b', name='stages', doc='a list of pipeline stages'): [VectorAssembler_f43983a5e672,\n",
       "     GBTRegressor_367dc82f24e4],\n",
       "    Param(parent='GBTRegressor_367dc82f24e4', name='maxDepth', doc='Maximum depth of the tree. (>= 0) E.g., depth 0 means 1 leaf node; depth 1 means 1 internal node + 2 leaf nodes.'): 3,\n",
       "    Param(parent='GBTRegressor_367dc82f24e4', name='maxIter', doc='max number of iterations (>= 0).'): 7},\n",
       "   {Param(parent='Pipeline_bb80c029aa8b', name='stages', doc='a list of pipeline stages'): [VectorAssembler_f43983a5e672,\n",
       "     GBTRegressor_367dc82f24e4],\n",
       "    Param(parent='GBTRegressor_367dc82f24e4', name='maxDepth', doc='Maximum depth of the tree. (>= 0) E.g., depth 0 means 1 leaf node; depth 1 means 1 internal node + 2 leaf nodes.'): 4,\n",
       "    Param(parent='GBTRegressor_367dc82f24e4', name='maxIter', doc='max number of iterations (>= 0).'): 4},\n",
       "   {Param(parent='Pipeline_bb80c029aa8b', name='stages', doc='a list of pipeline stages'): [VectorAssembler_f43983a5e672,\n",
       "     GBTRegressor_367dc82f24e4],\n",
       "    Param(parent='GBTRegressor_367dc82f24e4', name='maxDepth', doc='Maximum depth of the tree. (>= 0) E.g., depth 0 means 1 leaf node; depth 1 means 1 internal node + 2 leaf nodes.'): 4,\n",
       "    Param(parent='GBTRegressor_367dc82f24e4', name='maxIter', doc='max number of iterations (>= 0).'): 5},\n",
       "   {Param(parent='Pipeline_bb80c029aa8b', name='stages', doc='a list of pipeline stages'): [VectorAssembler_f43983a5e672,\n",
       "     GBTRegressor_367dc82f24e4],\n",
       "    Param(parent='GBTRegressor_367dc82f24e4', name='maxDepth', doc='Maximum depth of the tree. (>= 0) E.g., depth 0 means 1 leaf node; depth 1 means 1 internal node + 2 leaf nodes.'): 4,\n",
       "    Param(parent='GBTRegressor_367dc82f24e4', name='maxIter', doc='max number of iterations (>= 0).'): 6},\n",
       "   {Param(parent='Pipeline_bb80c029aa8b', name='stages', doc='a list of pipeline stages'): [VectorAssembler_f43983a5e672,\n",
       "     GBTRegressor_367dc82f24e4],\n",
       "    Param(parent='GBTRegressor_367dc82f24e4', name='maxDepth', doc='Maximum depth of the tree. (>= 0) E.g., depth 0 means 1 leaf node; depth 1 means 1 internal node + 2 leaf nodes.'): 4,\n",
       "    Param(parent='GBTRegressor_367dc82f24e4', name='maxIter', doc='max number of iterations (>= 0).'): 7},\n",
       "   {Param(parent='Pipeline_bb80c029aa8b', name='stages', doc='a list of pipeline stages'): [VectorAssembler_f43983a5e672,\n",
       "     GBTRegressor_367dc82f24e4],\n",
       "    Param(parent='GBTRegressor_367dc82f24e4', name='maxDepth', doc='Maximum depth of the tree. (>= 0) E.g., depth 0 means 1 leaf node; depth 1 means 1 internal node + 2 leaf nodes.'): 5,\n",
       "    Param(parent='GBTRegressor_367dc82f24e4', name='maxIter', doc='max number of iterations (>= 0).'): 4},\n",
       "   {Param(parent='Pipeline_bb80c029aa8b', name='stages', doc='a list of pipeline stages'): [VectorAssembler_f43983a5e672,\n",
       "     GBTRegressor_367dc82f24e4],\n",
       "    Param(parent='GBTRegressor_367dc82f24e4', name='maxDepth', doc='Maximum depth of the tree. (>= 0) E.g., depth 0 means 1 leaf node; depth 1 means 1 internal node + 2 leaf nodes.'): 5,\n",
       "    Param(parent='GBTRegressor_367dc82f24e4', name='maxIter', doc='max number of iterations (>= 0).'): 5},\n",
       "   {Param(parent='Pipeline_bb80c029aa8b', name='stages', doc='a list of pipeline stages'): [VectorAssembler_f43983a5e672,\n",
       "     GBTRegressor_367dc82f24e4],\n",
       "    Param(parent='GBTRegressor_367dc82f24e4', name='maxDepth', doc='Maximum depth of the tree. (>= 0) E.g., depth 0 means 1 leaf node; depth 1 means 1 internal node + 2 leaf nodes.'): 5,\n",
       "    Param(parent='GBTRegressor_367dc82f24e4', name='maxIter', doc='max number of iterations (>= 0).'): 6},\n",
       "   {Param(parent='Pipeline_bb80c029aa8b', name='stages', doc='a list of pipeline stages'): [VectorAssembler_f43983a5e672,\n",
       "     GBTRegressor_367dc82f24e4],\n",
       "    Param(parent='GBTRegressor_367dc82f24e4', name='maxDepth', doc='Maximum depth of the tree. (>= 0) E.g., depth 0 means 1 leaf node; depth 1 means 1 internal node + 2 leaf nodes.'): 5,\n",
       "    Param(parent='GBTRegressor_367dc82f24e4', name='maxIter', doc='max number of iterations (>= 0).'): 7}]),\n",
       " ('rf',\n",
       "  [{Param(parent='Pipeline_bb80c029aa8b', name='stages', doc='a list of pipeline stages'): [VectorAssembler_f43983a5e672,\n",
       "     RandomForestRegressor_6ee0aaefcab2],\n",
       "    Param(parent='RandomForestRegressor_6ee0aaefcab2', name='maxDepth', doc='Maximum depth of the tree. (>= 0) E.g., depth 0 means 1 leaf node; depth 1 means 1 internal node + 2 leaf nodes.'): 2,\n",
       "    Param(parent='RandomForestRegressor_6ee0aaefcab2', name='numTrees', doc='Number of trees to train (>= 1).'): 19},\n",
       "   {Param(parent='Pipeline_bb80c029aa8b', name='stages', doc='a list of pipeline stages'): [VectorAssembler_f43983a5e672,\n",
       "     RandomForestRegressor_6ee0aaefcab2],\n",
       "    Param(parent='RandomForestRegressor_6ee0aaefcab2', name='maxDepth', doc='Maximum depth of the tree. (>= 0) E.g., depth 0 means 1 leaf node; depth 1 means 1 internal node + 2 leaf nodes.'): 2,\n",
       "    Param(parent='RandomForestRegressor_6ee0aaefcab2', name='numTrees', doc='Number of trees to train (>= 1).'): 20},\n",
       "   {Param(parent='Pipeline_bb80c029aa8b', name='stages', doc='a list of pipeline stages'): [VectorAssembler_f43983a5e672,\n",
       "     RandomForestRegressor_6ee0aaefcab2],\n",
       "    Param(parent='RandomForestRegressor_6ee0aaefcab2', name='maxDepth', doc='Maximum depth of the tree. (>= 0) E.g., depth 0 means 1 leaf node; depth 1 means 1 internal node + 2 leaf nodes.'): 2,\n",
       "    Param(parent='RandomForestRegressor_6ee0aaefcab2', name='numTrees', doc='Number of trees to train (>= 1).'): 21},\n",
       "   {Param(parent='Pipeline_bb80c029aa8b', name='stages', doc='a list of pipeline stages'): [VectorAssembler_f43983a5e672,\n",
       "     RandomForestRegressor_6ee0aaefcab2],\n",
       "    Param(parent='RandomForestRegressor_6ee0aaefcab2', name='maxDepth', doc='Maximum depth of the tree. (>= 0) E.g., depth 0 means 1 leaf node; depth 1 means 1 internal node + 2 leaf nodes.'): 3,\n",
       "    Param(parent='RandomForestRegressor_6ee0aaefcab2', name='numTrees', doc='Number of trees to train (>= 1).'): 19},\n",
       "   {Param(parent='Pipeline_bb80c029aa8b', name='stages', doc='a list of pipeline stages'): [VectorAssembler_f43983a5e672,\n",
       "     RandomForestRegressor_6ee0aaefcab2],\n",
       "    Param(parent='RandomForestRegressor_6ee0aaefcab2', name='maxDepth', doc='Maximum depth of the tree. (>= 0) E.g., depth 0 means 1 leaf node; depth 1 means 1 internal node + 2 leaf nodes.'): 3,\n",
       "    Param(parent='RandomForestRegressor_6ee0aaefcab2', name='numTrees', doc='Number of trees to train (>= 1).'): 20},\n",
       "   {Param(parent='Pipeline_bb80c029aa8b', name='stages', doc='a list of pipeline stages'): [VectorAssembler_f43983a5e672,\n",
       "     RandomForestRegressor_6ee0aaefcab2],\n",
       "    Param(parent='RandomForestRegressor_6ee0aaefcab2', name='maxDepth', doc='Maximum depth of the tree. (>= 0) E.g., depth 0 means 1 leaf node; depth 1 means 1 internal node + 2 leaf nodes.'): 3,\n",
       "    Param(parent='RandomForestRegressor_6ee0aaefcab2', name='numTrees', doc='Number of trees to train (>= 1).'): 21},\n",
       "   {Param(parent='Pipeline_bb80c029aa8b', name='stages', doc='a list of pipeline stages'): [VectorAssembler_f43983a5e672,\n",
       "     RandomForestRegressor_6ee0aaefcab2],\n",
       "    Param(parent='RandomForestRegressor_6ee0aaefcab2', name='maxDepth', doc='Maximum depth of the tree. (>= 0) E.g., depth 0 means 1 leaf node; depth 1 means 1 internal node + 2 leaf nodes.'): 4,\n",
       "    Param(parent='RandomForestRegressor_6ee0aaefcab2', name='numTrees', doc='Number of trees to train (>= 1).'): 19},\n",
       "   {Param(parent='Pipeline_bb80c029aa8b', name='stages', doc='a list of pipeline stages'): [VectorAssembler_f43983a5e672,\n",
       "     RandomForestRegressor_6ee0aaefcab2],\n",
       "    Param(parent='RandomForestRegressor_6ee0aaefcab2', name='maxDepth', doc='Maximum depth of the tree. (>= 0) E.g., depth 0 means 1 leaf node; depth 1 means 1 internal node + 2 leaf nodes.'): 4,\n",
       "    Param(parent='RandomForestRegressor_6ee0aaefcab2', name='numTrees', doc='Number of trees to train (>= 1).'): 20},\n",
       "   {Param(parent='Pipeline_bb80c029aa8b', name='stages', doc='a list of pipeline stages'): [VectorAssembler_f43983a5e672,\n",
       "     RandomForestRegressor_6ee0aaefcab2],\n",
       "    Param(parent='RandomForestRegressor_6ee0aaefcab2', name='maxDepth', doc='Maximum depth of the tree. (>= 0) E.g., depth 0 means 1 leaf node; depth 1 means 1 internal node + 2 leaf nodes.'): 4,\n",
       "    Param(parent='RandomForestRegressor_6ee0aaefcab2', name='numTrees', doc='Number of trees to train (>= 1).'): 21},\n",
       "   {Param(parent='Pipeline_bb80c029aa8b', name='stages', doc='a list of pipeline stages'): [VectorAssembler_f43983a5e672,\n",
       "     RandomForestRegressor_6ee0aaefcab2],\n",
       "    Param(parent='RandomForestRegressor_6ee0aaefcab2', name='maxDepth', doc='Maximum depth of the tree. (>= 0) E.g., depth 0 means 1 leaf node; depth 1 means 1 internal node + 2 leaf nodes.'): 5,\n",
       "    Param(parent='RandomForestRegressor_6ee0aaefcab2', name='numTrees', doc='Number of trees to train (>= 1).'): 19},\n",
       "   {Param(parent='Pipeline_bb80c029aa8b', name='stages', doc='a list of pipeline stages'): [VectorAssembler_f43983a5e672,\n",
       "     RandomForestRegressor_6ee0aaefcab2],\n",
       "    Param(parent='RandomForestRegressor_6ee0aaefcab2', name='maxDepth', doc='Maximum depth of the tree. (>= 0) E.g., depth 0 means 1 leaf node; depth 1 means 1 internal node + 2 leaf nodes.'): 5,\n",
       "    Param(parent='RandomForestRegressor_6ee0aaefcab2', name='numTrees', doc='Number of trees to train (>= 1).'): 20},\n",
       "   {Param(parent='Pipeline_bb80c029aa8b', name='stages', doc='a list of pipeline stages'): [VectorAssembler_f43983a5e672,\n",
       "     RandomForestRegressor_6ee0aaefcab2],\n",
       "    Param(parent='RandomForestRegressor_6ee0aaefcab2', name='maxDepth', doc='Maximum depth of the tree. (>= 0) E.g., depth 0 means 1 leaf node; depth 1 means 1 internal node + 2 leaf nodes.'): 5,\n",
       "    Param(parent='RandomForestRegressor_6ee0aaefcab2', name='numTrees', doc='Number of trees to train (>= 1).'): 21}]),\n",
       " ('dt',\n",
       "  [{Param(parent='Pipeline_bb80c029aa8b', name='stages', doc='a list of pipeline stages'): [VectorAssembler_f43983a5e672,\n",
       "     DecisionTreeRegressor_8f7ca8baa1cc],\n",
       "    Param(parent='DecisionTreeRegressor_8f7ca8baa1cc', name='maxDepth', doc='Maximum depth of the tree. (>= 0) E.g., depth 0 means 1 leaf node; depth 1 means 1 internal node + 2 leaf nodes.'): 4,\n",
       "    Param(parent='DecisionTreeRegressor_8f7ca8baa1cc', name='minInfoGain', doc='Minimum information gain for a split to be considered at a tree node.'): 0.0,\n",
       "    Param(parent='DecisionTreeRegressor_8f7ca8baa1cc', name='maxBins', doc='Max number of bins for discretizing continuous features.  Must be >=2 and >= number of categories for any categorical feature.'): 25},\n",
       "   {Param(parent='Pipeline_bb80c029aa8b', name='stages', doc='a list of pipeline stages'): [VectorAssembler_f43983a5e672,\n",
       "     DecisionTreeRegressor_8f7ca8baa1cc],\n",
       "    Param(parent='DecisionTreeRegressor_8f7ca8baa1cc', name='maxDepth', doc='Maximum depth of the tree. (>= 0) E.g., depth 0 means 1 leaf node; depth 1 means 1 internal node + 2 leaf nodes.'): 4,\n",
       "    Param(parent='DecisionTreeRegressor_8f7ca8baa1cc', name='minInfoGain', doc='Minimum information gain for a split to be considered at a tree node.'): 0.0,\n",
       "    Param(parent='DecisionTreeRegressor_8f7ca8baa1cc', name='maxBins', doc='Max number of bins for discretizing continuous features.  Must be >=2 and >= number of categories for any categorical feature.'): 28},\n",
       "   {Param(parent='Pipeline_bb80c029aa8b', name='stages', doc='a list of pipeline stages'): [VectorAssembler_f43983a5e672,\n",
       "     DecisionTreeRegressor_8f7ca8baa1cc],\n",
       "    Param(parent='DecisionTreeRegressor_8f7ca8baa1cc', name='maxDepth', doc='Maximum depth of the tree. (>= 0) E.g., depth 0 means 1 leaf node; depth 1 means 1 internal node + 2 leaf nodes.'): 4,\n",
       "    Param(parent='DecisionTreeRegressor_8f7ca8baa1cc', name='minInfoGain', doc='Minimum information gain for a split to be considered at a tree node.'): 0.0,\n",
       "    Param(parent='DecisionTreeRegressor_8f7ca8baa1cc', name='maxBins', doc='Max number of bins for discretizing continuous features.  Must be >=2 and >= number of categories for any categorical feature.'): 32},\n",
       "   {Param(parent='Pipeline_bb80c029aa8b', name='stages', doc='a list of pipeline stages'): [VectorAssembler_f43983a5e672,\n",
       "     DecisionTreeRegressor_8f7ca8baa1cc],\n",
       "    Param(parent='DecisionTreeRegressor_8f7ca8baa1cc', name='maxDepth', doc='Maximum depth of the tree. (>= 0) E.g., depth 0 means 1 leaf node; depth 1 means 1 internal node + 2 leaf nodes.'): 4,\n",
       "    Param(parent='DecisionTreeRegressor_8f7ca8baa1cc', name='minInfoGain', doc='Minimum information gain for a split to be considered at a tree node.'): 0.1,\n",
       "    Param(parent='DecisionTreeRegressor_8f7ca8baa1cc', name='maxBins', doc='Max number of bins for discretizing continuous features.  Must be >=2 and >= number of categories for any categorical feature.'): 25},\n",
       "   {Param(parent='Pipeline_bb80c029aa8b', name='stages', doc='a list of pipeline stages'): [VectorAssembler_f43983a5e672,\n",
       "     DecisionTreeRegressor_8f7ca8baa1cc],\n",
       "    Param(parent='DecisionTreeRegressor_8f7ca8baa1cc', name='maxDepth', doc='Maximum depth of the tree. (>= 0) E.g., depth 0 means 1 leaf node; depth 1 means 1 internal node + 2 leaf nodes.'): 4,\n",
       "    Param(parent='DecisionTreeRegressor_8f7ca8baa1cc', name='minInfoGain', doc='Minimum information gain for a split to be considered at a tree node.'): 0.1,\n",
       "    Param(parent='DecisionTreeRegressor_8f7ca8baa1cc', name='maxBins', doc='Max number of bins for discretizing continuous features.  Must be >=2 and >= number of categories for any categorical feature.'): 28},\n",
       "   {Param(parent='Pipeline_bb80c029aa8b', name='stages', doc='a list of pipeline stages'): [VectorAssembler_f43983a5e672,\n",
       "     DecisionTreeRegressor_8f7ca8baa1cc],\n",
       "    Param(parent='DecisionTreeRegressor_8f7ca8baa1cc', name='maxDepth', doc='Maximum depth of the tree. (>= 0) E.g., depth 0 means 1 leaf node; depth 1 means 1 internal node + 2 leaf nodes.'): 4,\n",
       "    Param(parent='DecisionTreeRegressor_8f7ca8baa1cc', name='minInfoGain', doc='Minimum information gain for a split to be considered at a tree node.'): 0.1,\n",
       "    Param(parent='DecisionTreeRegressor_8f7ca8baa1cc', name='maxBins', doc='Max number of bins for discretizing continuous features.  Must be >=2 and >= number of categories for any categorical feature.'): 32},\n",
       "   {Param(parent='Pipeline_bb80c029aa8b', name='stages', doc='a list of pipeline stages'): [VectorAssembler_f43983a5e672,\n",
       "     DecisionTreeRegressor_8f7ca8baa1cc],\n",
       "    Param(parent='DecisionTreeRegressor_8f7ca8baa1cc', name='maxDepth', doc='Maximum depth of the tree. (>= 0) E.g., depth 0 means 1 leaf node; depth 1 means 1 internal node + 2 leaf nodes.'): 4,\n",
       "    Param(parent='DecisionTreeRegressor_8f7ca8baa1cc', name='minInfoGain', doc='Minimum information gain for a split to be considered at a tree node.'): 0.2,\n",
       "    Param(parent='DecisionTreeRegressor_8f7ca8baa1cc', name='maxBins', doc='Max number of bins for discretizing continuous features.  Must be >=2 and >= number of categories for any categorical feature.'): 25},\n",
       "   {Param(parent='Pipeline_bb80c029aa8b', name='stages', doc='a list of pipeline stages'): [VectorAssembler_f43983a5e672,\n",
       "     DecisionTreeRegressor_8f7ca8baa1cc],\n",
       "    Param(parent='DecisionTreeRegressor_8f7ca8baa1cc', name='maxDepth', doc='Maximum depth of the tree. (>= 0) E.g., depth 0 means 1 leaf node; depth 1 means 1 internal node + 2 leaf nodes.'): 4,\n",
       "    Param(parent='DecisionTreeRegressor_8f7ca8baa1cc', name='minInfoGain', doc='Minimum information gain for a split to be considered at a tree node.'): 0.2,\n",
       "    Param(parent='DecisionTreeRegressor_8f7ca8baa1cc', name='maxBins', doc='Max number of bins for discretizing continuous features.  Must be >=2 and >= number of categories for any categorical feature.'): 28},\n",
       "   {Param(parent='Pipeline_bb80c029aa8b', name='stages', doc='a list of pipeline stages'): [VectorAssembler_f43983a5e672,\n",
       "     DecisionTreeRegressor_8f7ca8baa1cc],\n",
       "    Param(parent='DecisionTreeRegressor_8f7ca8baa1cc', name='maxDepth', doc='Maximum depth of the tree. (>= 0) E.g., depth 0 means 1 leaf node; depth 1 means 1 internal node + 2 leaf nodes.'): 4,\n",
       "    Param(parent='DecisionTreeRegressor_8f7ca8baa1cc', name='minInfoGain', doc='Minimum information gain for a split to be considered at a tree node.'): 0.2,\n",
       "    Param(parent='DecisionTreeRegressor_8f7ca8baa1cc', name='maxBins', doc='Max number of bins for discretizing continuous features.  Must be >=2 and >= number of categories for any categorical feature.'): 32},\n",
       "   {Param(parent='Pipeline_bb80c029aa8b', name='stages', doc='a list of pipeline stages'): [VectorAssembler_f43983a5e672,\n",
       "     DecisionTreeRegressor_8f7ca8baa1cc],\n",
       "    Param(parent='DecisionTreeRegressor_8f7ca8baa1cc', name='maxDepth', doc='Maximum depth of the tree. (>= 0) E.g., depth 0 means 1 leaf node; depth 1 means 1 internal node + 2 leaf nodes.'): 5,\n",
       "    Param(parent='DecisionTreeRegressor_8f7ca8baa1cc', name='minInfoGain', doc='Minimum information gain for a split to be considered at a tree node.'): 0.0,\n",
       "    Param(parent='DecisionTreeRegressor_8f7ca8baa1cc', name='maxBins', doc='Max number of bins for discretizing continuous features.  Must be >=2 and >= number of categories for any categorical feature.'): 25},\n",
       "   {Param(parent='Pipeline_bb80c029aa8b', name='stages', doc='a list of pipeline stages'): [VectorAssembler_f43983a5e672,\n",
       "     DecisionTreeRegressor_8f7ca8baa1cc],\n",
       "    Param(parent='DecisionTreeRegressor_8f7ca8baa1cc', name='maxDepth', doc='Maximum depth of the tree. (>= 0) E.g., depth 0 means 1 leaf node; depth 1 means 1 internal node + 2 leaf nodes.'): 5,\n",
       "    Param(parent='DecisionTreeRegressor_8f7ca8baa1cc', name='minInfoGain', doc='Minimum information gain for a split to be considered at a tree node.'): 0.0,\n",
       "    Param(parent='DecisionTreeRegressor_8f7ca8baa1cc', name='maxBins', doc='Max number of bins for discretizing continuous features.  Must be >=2 and >= number of categories for any categorical feature.'): 28},\n",
       "   {Param(parent='Pipeline_bb80c029aa8b', name='stages', doc='a list of pipeline stages'): [VectorAssembler_f43983a5e672,\n",
       "     DecisionTreeRegressor_8f7ca8baa1cc],\n",
       "    Param(parent='DecisionTreeRegressor_8f7ca8baa1cc', name='maxDepth', doc='Maximum depth of the tree. (>= 0) E.g., depth 0 means 1 leaf node; depth 1 means 1 internal node + 2 leaf nodes.'): 5,\n",
       "    Param(parent='DecisionTreeRegressor_8f7ca8baa1cc', name='minInfoGain', doc='Minimum information gain for a split to be considered at a tree node.'): 0.0,\n",
       "    Param(parent='DecisionTreeRegressor_8f7ca8baa1cc', name='maxBins', doc='Max number of bins for discretizing continuous features.  Must be >=2 and >= number of categories for any categorical feature.'): 32},\n",
       "   {Param(parent='Pipeline_bb80c029aa8b', name='stages', doc='a list of pipeline stages'): [VectorAssembler_f43983a5e672,\n",
       "     DecisionTreeRegressor_8f7ca8baa1cc],\n",
       "    Param(parent='DecisionTreeRegressor_8f7ca8baa1cc', name='maxDepth', doc='Maximum depth of the tree. (>= 0) E.g., depth 0 means 1 leaf node; depth 1 means 1 internal node + 2 leaf nodes.'): 5,\n",
       "    Param(parent='DecisionTreeRegressor_8f7ca8baa1cc', name='minInfoGain', doc='Minimum information gain for a split to be considered at a tree node.'): 0.1,\n",
       "    Param(parent='DecisionTreeRegressor_8f7ca8baa1cc', name='maxBins', doc='Max number of bins for discretizing continuous features.  Must be >=2 and >= number of categories for any categorical feature.'): 25},\n",
       "   {Param(parent='Pipeline_bb80c029aa8b', name='stages', doc='a list of pipeline stages'): [VectorAssembler_f43983a5e672,\n",
       "     DecisionTreeRegressor_8f7ca8baa1cc],\n",
       "    Param(parent='DecisionTreeRegressor_8f7ca8baa1cc', name='maxDepth', doc='Maximum depth of the tree. (>= 0) E.g., depth 0 means 1 leaf node; depth 1 means 1 internal node + 2 leaf nodes.'): 5,\n",
       "    Param(parent='DecisionTreeRegressor_8f7ca8baa1cc', name='minInfoGain', doc='Minimum information gain for a split to be considered at a tree node.'): 0.1,\n",
       "    Param(parent='DecisionTreeRegressor_8f7ca8baa1cc', name='maxBins', doc='Max number of bins for discretizing continuous features.  Must be >=2 and >= number of categories for any categorical feature.'): 28},\n",
       "   {Param(parent='Pipeline_bb80c029aa8b', name='stages', doc='a list of pipeline stages'): [VectorAssembler_f43983a5e672,\n",
       "     DecisionTreeRegressor_8f7ca8baa1cc],\n",
       "    Param(parent='DecisionTreeRegressor_8f7ca8baa1cc', name='maxDepth', doc='Maximum depth of the tree. (>= 0) E.g., depth 0 means 1 leaf node; depth 1 means 1 internal node + 2 leaf nodes.'): 5,\n",
       "    Param(parent='DecisionTreeRegressor_8f7ca8baa1cc', name='minInfoGain', doc='Minimum information gain for a split to be considered at a tree node.'): 0.1,\n",
       "    Param(parent='DecisionTreeRegressor_8f7ca8baa1cc', name='maxBins', doc='Max number of bins for discretizing continuous features.  Must be >=2 and >= number of categories for any categorical feature.'): 32},\n",
       "   {Param(parent='Pipeline_bb80c029aa8b', name='stages', doc='a list of pipeline stages'): [VectorAssembler_f43983a5e672,\n",
       "     DecisionTreeRegressor_8f7ca8baa1cc],\n",
       "    Param(parent='DecisionTreeRegressor_8f7ca8baa1cc', name='maxDepth', doc='Maximum depth of the tree. (>= 0) E.g., depth 0 means 1 leaf node; depth 1 means 1 internal node + 2 leaf nodes.'): 5,\n",
       "    Param(parent='DecisionTreeRegressor_8f7ca8baa1cc', name='minInfoGain', doc='Minimum information gain for a split to be considered at a tree node.'): 0.2,\n",
       "    Param(parent='DecisionTreeRegressor_8f7ca8baa1cc', name='maxBins', doc='Max number of bins for discretizing continuous features.  Must be >=2 and >= number of categories for any categorical feature.'): 25},\n",
       "   {Param(parent='Pipeline_bb80c029aa8b', name='stages', doc='a list of pipeline stages'): [VectorAssembler_f43983a5e672,\n",
       "     DecisionTreeRegressor_8f7ca8baa1cc],\n",
       "    Param(parent='DecisionTreeRegressor_8f7ca8baa1cc', name='maxDepth', doc='Maximum depth of the tree. (>= 0) E.g., depth 0 means 1 leaf node; depth 1 means 1 internal node + 2 leaf nodes.'): 5,\n",
       "    Param(parent='DecisionTreeRegressor_8f7ca8baa1cc', name='minInfoGain', doc='Minimum information gain for a split to be considered at a tree node.'): 0.2,\n",
       "    Param(parent='DecisionTreeRegressor_8f7ca8baa1cc', name='maxBins', doc='Max number of bins for discretizing continuous features.  Must be >=2 and >= number of categories for any categorical feature.'): 28},\n",
       "   {Param(parent='Pipeline_bb80c029aa8b', name='stages', doc='a list of pipeline stages'): [VectorAssembler_f43983a5e672,\n",
       "     DecisionTreeRegressor_8f7ca8baa1cc],\n",
       "    Param(parent='DecisionTreeRegressor_8f7ca8baa1cc', name='maxDepth', doc='Maximum depth of the tree. (>= 0) E.g., depth 0 means 1 leaf node; depth 1 means 1 internal node + 2 leaf nodes.'): 5,\n",
       "    Param(parent='DecisionTreeRegressor_8f7ca8baa1cc', name='minInfoGain', doc='Minimum information gain for a split to be considered at a tree node.'): 0.2,\n",
       "    Param(parent='DecisionTreeRegressor_8f7ca8baa1cc', name='maxBins', doc='Max number of bins for discretizing continuous features.  Must be >=2 and >= number of categories for any categorical feature.'): 32},\n",
       "   {Param(parent='Pipeline_bb80c029aa8b', name='stages', doc='a list of pipeline stages'): [VectorAssembler_f43983a5e672,\n",
       "     DecisionTreeRegressor_8f7ca8baa1cc],\n",
       "    Param(parent='DecisionTreeRegressor_8f7ca8baa1cc', name='maxDepth', doc='Maximum depth of the tree. (>= 0) E.g., depth 0 means 1 leaf node; depth 1 means 1 internal node + 2 leaf nodes.'): 6,\n",
       "    Param(parent='DecisionTreeRegressor_8f7ca8baa1cc', name='minInfoGain', doc='Minimum information gain for a split to be considered at a tree node.'): 0.0,\n",
       "    Param(parent='DecisionTreeRegressor_8f7ca8baa1cc', name='maxBins', doc='Max number of bins for discretizing continuous features.  Must be >=2 and >= number of categories for any categorical feature.'): 25},\n",
       "   {Param(parent='Pipeline_bb80c029aa8b', name='stages', doc='a list of pipeline stages'): [VectorAssembler_f43983a5e672,\n",
       "     DecisionTreeRegressor_8f7ca8baa1cc],\n",
       "    Param(parent='DecisionTreeRegressor_8f7ca8baa1cc', name='maxDepth', doc='Maximum depth of the tree. (>= 0) E.g., depth 0 means 1 leaf node; depth 1 means 1 internal node + 2 leaf nodes.'): 6,\n",
       "    Param(parent='DecisionTreeRegressor_8f7ca8baa1cc', name='minInfoGain', doc='Minimum information gain for a split to be considered at a tree node.'): 0.0,\n",
       "    Param(parent='DecisionTreeRegressor_8f7ca8baa1cc', name='maxBins', doc='Max number of bins for discretizing continuous features.  Must be >=2 and >= number of categories for any categorical feature.'): 28},\n",
       "   {Param(parent='Pipeline_bb80c029aa8b', name='stages', doc='a list of pipeline stages'): [VectorAssembler_f43983a5e672,\n",
       "     DecisionTreeRegressor_8f7ca8baa1cc],\n",
       "    Param(parent='DecisionTreeRegressor_8f7ca8baa1cc', name='maxDepth', doc='Maximum depth of the tree. (>= 0) E.g., depth 0 means 1 leaf node; depth 1 means 1 internal node + 2 leaf nodes.'): 6,\n",
       "    Param(parent='DecisionTreeRegressor_8f7ca8baa1cc', name='minInfoGain', doc='Minimum information gain for a split to be considered at a tree node.'): 0.0,\n",
       "    Param(parent='DecisionTreeRegressor_8f7ca8baa1cc', name='maxBins', doc='Max number of bins for discretizing continuous features.  Must be >=2 and >= number of categories for any categorical feature.'): 32},\n",
       "   {Param(parent='Pipeline_bb80c029aa8b', name='stages', doc='a list of pipeline stages'): [VectorAssembler_f43983a5e672,\n",
       "     DecisionTreeRegressor_8f7ca8baa1cc],\n",
       "    Param(parent='DecisionTreeRegressor_8f7ca8baa1cc', name='maxDepth', doc='Maximum depth of the tree. (>= 0) E.g., depth 0 means 1 leaf node; depth 1 means 1 internal node + 2 leaf nodes.'): 6,\n",
       "    Param(parent='DecisionTreeRegressor_8f7ca8baa1cc', name='minInfoGain', doc='Minimum information gain for a split to be considered at a tree node.'): 0.1,\n",
       "    Param(parent='DecisionTreeRegressor_8f7ca8baa1cc', name='maxBins', doc='Max number of bins for discretizing continuous features.  Must be >=2 and >= number of categories for any categorical feature.'): 25},\n",
       "   {Param(parent='Pipeline_bb80c029aa8b', name='stages', doc='a list of pipeline stages'): [VectorAssembler_f43983a5e672,\n",
       "     DecisionTreeRegressor_8f7ca8baa1cc],\n",
       "    Param(parent='DecisionTreeRegressor_8f7ca8baa1cc', name='maxDepth', doc='Maximum depth of the tree. (>= 0) E.g., depth 0 means 1 leaf node; depth 1 means 1 internal node + 2 leaf nodes.'): 6,\n",
       "    Param(parent='DecisionTreeRegressor_8f7ca8baa1cc', name='minInfoGain', doc='Minimum information gain for a split to be considered at a tree node.'): 0.1,\n",
       "    Param(parent='DecisionTreeRegressor_8f7ca8baa1cc', name='maxBins', doc='Max number of bins for discretizing continuous features.  Must be >=2 and >= number of categories for any categorical feature.'): 28},\n",
       "   {Param(parent='Pipeline_bb80c029aa8b', name='stages', doc='a list of pipeline stages'): [VectorAssembler_f43983a5e672,\n",
       "     DecisionTreeRegressor_8f7ca8baa1cc],\n",
       "    Param(parent='DecisionTreeRegressor_8f7ca8baa1cc', name='maxDepth', doc='Maximum depth of the tree. (>= 0) E.g., depth 0 means 1 leaf node; depth 1 means 1 internal node + 2 leaf nodes.'): 6,\n",
       "    Param(parent='DecisionTreeRegressor_8f7ca8baa1cc', name='minInfoGain', doc='Minimum information gain for a split to be considered at a tree node.'): 0.1,\n",
       "    Param(parent='DecisionTreeRegressor_8f7ca8baa1cc', name='maxBins', doc='Max number of bins for discretizing continuous features.  Must be >=2 and >= number of categories for any categorical feature.'): 32},\n",
       "   {Param(parent='Pipeline_bb80c029aa8b', name='stages', doc='a list of pipeline stages'): [VectorAssembler_f43983a5e672,\n",
       "     DecisionTreeRegressor_8f7ca8baa1cc],\n",
       "    Param(parent='DecisionTreeRegressor_8f7ca8baa1cc', name='maxDepth', doc='Maximum depth of the tree. (>= 0) E.g., depth 0 means 1 leaf node; depth 1 means 1 internal node + 2 leaf nodes.'): 6,\n",
       "    Param(parent='DecisionTreeRegressor_8f7ca8baa1cc', name='minInfoGain', doc='Minimum information gain for a split to be considered at a tree node.'): 0.2,\n",
       "    Param(parent='DecisionTreeRegressor_8f7ca8baa1cc', name='maxBins', doc='Max number of bins for discretizing continuous features.  Must be >=2 and >= number of categories for any categorical feature.'): 25},\n",
       "   {Param(parent='Pipeline_bb80c029aa8b', name='stages', doc='a list of pipeline stages'): [VectorAssembler_f43983a5e672,\n",
       "     DecisionTreeRegressor_8f7ca8baa1cc],\n",
       "    Param(parent='DecisionTreeRegressor_8f7ca8baa1cc', name='maxDepth', doc='Maximum depth of the tree. (>= 0) E.g., depth 0 means 1 leaf node; depth 1 means 1 internal node + 2 leaf nodes.'): 6,\n",
       "    Param(parent='DecisionTreeRegressor_8f7ca8baa1cc', name='minInfoGain', doc='Minimum information gain for a split to be considered at a tree node.'): 0.2,\n",
       "    Param(parent='DecisionTreeRegressor_8f7ca8baa1cc', name='maxBins', doc='Max number of bins for discretizing continuous features.  Must be >=2 and >= number of categories for any categorical feature.'): 28},\n",
       "   {Param(parent='Pipeline_bb80c029aa8b', name='stages', doc='a list of pipeline stages'): [VectorAssembler_f43983a5e672,\n",
       "     DecisionTreeRegressor_8f7ca8baa1cc],\n",
       "    Param(parent='DecisionTreeRegressor_8f7ca8baa1cc', name='maxDepth', doc='Maximum depth of the tree. (>= 0) E.g., depth 0 means 1 leaf node; depth 1 means 1 internal node + 2 leaf nodes.'): 6,\n",
       "    Param(parent='DecisionTreeRegressor_8f7ca8baa1cc', name='minInfoGain', doc='Minimum information gain for a split to be considered at a tree node.'): 0.2,\n",
       "    Param(parent='DecisionTreeRegressor_8f7ca8baa1cc', name='maxBins', doc='Max number of bins for discretizing continuous features.  Must be >=2 and >= number of categories for any categorical feature.'): 32}])]"
      ]
     },
     "execution_count": 53,
     "metadata": {},
     "output_type": "execute_result"
    }
   ],
   "source": [
    "\n",
    "\n",
    "get_paramGrids()"
   ]
  },
  {
   "cell_type": "code",
   "execution_count": 54,
   "metadata": {},
   "outputs": [
    {
     "data": {
      "text/plain": [
       "pyspark.ml.tuning.TrainValidationSplit"
      ]
     },
     "execution_count": 54,
     "metadata": {},
     "output_type": "execute_result"
    }
   ],
   "source": [
    "type(tvs)"
   ]
  },
  {
   "cell_type": "code",
   "execution_count": 55,
   "metadata": {},
   "outputs": [],
   "source": [
    "model1 = tvs.fit(train_df)\n"
   ]
  },
  {
   "cell_type": "code",
   "execution_count": 56,
   "metadata": {},
   "outputs": [
    {
     "data": {
      "text/plain": [
       "pyspark.ml.tuning.TrainValidationSplitModel"
      ]
     },
     "execution_count": 56,
     "metadata": {},
     "output_type": "execute_result"
    }
   ],
   "source": [
    "type(model1)"
   ]
  },
  {
   "cell_type": "code",
   "execution_count": 58,
   "metadata": {},
   "outputs": [
    {
     "data": {
      "text/plain": [
       "PipelineModel_7a9239c36c67"
      ]
     },
     "execution_count": 58,
     "metadata": {},
     "output_type": "execute_result"
    }
   ],
   "source": [
    "model1.bestModel"
   ]
  },
  {
   "cell_type": "code",
   "execution_count": 59,
   "metadata": {},
   "outputs": [],
   "source": [
    "lr = LinearRegression(featuresCol='features', labelCol='ctr', maxIter=40, regParam=0.4, elasticNetParam=0.8)    "
   ]
  },
  {
   "cell_type": "code",
   "execution_count": 61,
   "metadata": {},
   "outputs": [
    {
     "data": {
      "text/plain": [
       "list"
      ]
     },
     "execution_count": 61,
     "metadata": {},
     "output_type": "execute_result"
    }
   ],
   "source": [
    "type(lr.params)"
   ]
  },
  {
   "cell_type": "code",
   "execution_count": 66,
   "metadata": {},
   "outputs": [
    {
     "ename": "TypeError",
     "evalue": "unsupported operand type(s) for +: 'Param' and 'GBTRegressor'",
     "output_type": "error",
     "traceback": [
      "\u001b[1;31m---------------------------------------------------------------------------\u001b[0m",
      "\u001b[1;31mTypeError\u001b[0m                                 Traceback (most recent call last)",
      "\u001b[1;32m<ipython-input-66-88e71addb3a9>\u001b[0m in \u001b[0;36m<module>\u001b[1;34m\u001b[0m\n\u001b[0;32m      1\u001b[0m \u001b[0mgbt_paramGrid\u001b[0m \u001b[1;33m=\u001b[0m \u001b[0mParamGridBuilder\u001b[0m\u001b[1;33m(\u001b[0m\u001b[1;33m)\u001b[0m\u001b[0;31m\\\u001b[0m\u001b[1;33m\u001b[0m\u001b[1;33m\u001b[0m\u001b[0m\n\u001b[1;32m----> 2\u001b[1;33m         \u001b[1;33m.\u001b[0m\u001b[0mbaseOn\u001b[0m\u001b[1;33m(\u001b[0m\u001b[1;33m{\u001b[0m\u001b[0mpipeline\u001b[0m\u001b[1;33m.\u001b[0m\u001b[0mstages\u001b[0m\u001b[1;33m:\u001b[0m \u001b[0mpipeline\u001b[0m\u001b[1;33m.\u001b[0m\u001b[0mstages\u001b[0m \u001b[1;33m+\u001b[0m \u001b[0mgbt\u001b[0m\u001b[1;33m}\u001b[0m\u001b[1;33m)\u001b[0m\u001b[0;31m \u001b[0m\u001b[0;31m\\\u001b[0m\u001b[1;33m\u001b[0m\u001b[1;33m\u001b[0m\u001b[0m\n\u001b[0m\u001b[0;32m      3\u001b[0m         \u001b[1;33m.\u001b[0m\u001b[0maddGrid\u001b[0m\u001b[1;33m(\u001b[0m\u001b[0mgbt\u001b[0m\u001b[1;33m.\u001b[0m\u001b[0mmaxDepth\u001b[0m\u001b[1;33m,\u001b[0m \u001b[1;33m[\u001b[0m\u001b[1;36m2\u001b[0m\u001b[1;33m,\u001b[0m \u001b[1;36m3\u001b[0m\u001b[1;33m,\u001b[0m \u001b[1;36m4\u001b[0m\u001b[1;33m,\u001b[0m \u001b[1;36m5\u001b[0m\u001b[1;33m]\u001b[0m\u001b[1;33m)\u001b[0m\u001b[0;31m\\\u001b[0m\u001b[1;33m\u001b[0m\u001b[1;33m\u001b[0m\u001b[0m\n\u001b[0;32m      4\u001b[0m         \u001b[1;33m.\u001b[0m\u001b[0maddGrid\u001b[0m\u001b[1;33m(\u001b[0m\u001b[0mgbt\u001b[0m\u001b[1;33m.\u001b[0m\u001b[0mmaxIter\u001b[0m\u001b[1;33m,\u001b[0m \u001b[1;33m[\u001b[0m\u001b[1;36m4\u001b[0m\u001b[1;33m,\u001b[0m \u001b[1;36m5\u001b[0m\u001b[1;33m,\u001b[0m \u001b[1;36m6\u001b[0m\u001b[1;33m,\u001b[0m \u001b[1;36m7\u001b[0m\u001b[1;33m]\u001b[0m\u001b[1;33m)\u001b[0m\u001b[0;31m\\\u001b[0m\u001b[1;33m\u001b[0m\u001b[1;33m\u001b[0m\u001b[0m\n\u001b[0;32m      5\u001b[0m         \u001b[1;33m.\u001b[0m\u001b[0mbuild\u001b[0m\u001b[1;33m(\u001b[0m\u001b[1;33m)\u001b[0m\u001b[1;33m\u001b[0m\u001b[1;33m\u001b[0m\u001b[0m\n",
      "\u001b[1;31mTypeError\u001b[0m: unsupported operand type(s) for +: 'Param' and 'GBTRegressor'"
     ]
    }
   ],
   "source": [
    "gbt_paramGrid = ParamGridBuilder()\\\n",
    "        .baseOn({pipeline.stages: pipeline.stages.}) \\\n",
    "        .addGrid(gbt.maxDepth, [2, 3, 4, 5])\\\n",
    "        .addGrid(gbt.maxIter, [4, 5, 6, 7])\\\n",
    "        .build()"
   ]
  },
  {
   "cell_type": "code",
   "execution_count": 73,
   "metadata": {},
   "outputs": [],
   "source": [
    "def dd(pipeline):\n",
    "    pipeline_stages = pipeline.getStages()\n",
    "    gbt = GBTRegressor(featuresCol='features', labelCol='ctr', predictionCol='prediction')\n",
    "    gbt_paramGrid = ParamGridBuilder()\\\n",
    "        .baseOn({pipeline.stages: pipeline_stages + [gbt]}) \\\n",
    "        .addGrid(gbt.maxDepth, [2, 3, 4, 5])\\\n",
    "        .addGrid(gbt.maxIter, [4, 5, 6, 7])\\\n",
    "        .build()\n",
    "\n",
    "    \n",
    "dd(pipeline)"
   ]
  },
  {
   "cell_type": "code",
   "execution_count": 70,
   "metadata": {},
   "outputs": [
    {
     "data": {
      "text/plain": [
       "[VectorAssembler_f43983a5e672]"
      ]
     },
     "execution_count": 70,
     "metadata": {},
     "output_type": "execute_result"
    }
   ],
   "source": [
    "pipeline.getStages()"
   ]
  },
  {
   "cell_type": "code",
   "execution_count": 81,
   "metadata": {},
   "outputs": [
    {
     "name": "stdout",
     "output_type": "stream",
     "text": [
      "Input path to train data: -f\n",
      "Input path to test data: C:\\Users\\Al\\AppData\\Roaming\\jupyter\\runtime\\kernel-97a87894-c6bd-475a-87b7-6f2611abf8b0.json\n",
      "Model and parameters: GBTRegressionModel: uid=GBTRegressor_b41a347d3aac, numTrees=7, numFeatures=7\n",
      "Train data RMSE: 0.081500\n",
      "Test data RMSE: 0.080700\n"
     ]
    }
   ],
   "source": [
    "import io\n",
    "import sys\n",
    "import numpy as np\n",
    "\n",
    "from pyspark.ml import Pipeline\n",
    "from pyspark.sql import SparkSession\n",
    "from pyspark.ml.feature import VectorAssembler\n",
    "from pyspark.ml.evaluation import RegressionEvaluator\n",
    "from pyspark.ml.tuning import ParamGridBuilder, TrainValidationSplit\n",
    "from pyspark.ml.regression import LinearRegression, GBTRegressor, RandomForestRegressor, DecisionTreeRegressor\n",
    "\n",
    "# Используйте как путь куда сохранить модель\n",
    "MODEL_PATH = 'spark_ml_model'\n",
    "\n",
    "\n",
    "def get_paramGrids_dict(pipeline):\n",
    "    pipeline_stages = pipeline.getStages()\n",
    "    \n",
    "    lr = LinearRegression(featuresCol='features', labelCol='ctr', predictionCol='prediction')\n",
    "    gbt = GBTRegressor(featuresCol='features', labelCol='ctr', predictionCol='prediction')\n",
    "    rf = RandomForestRegressor(featuresCol='features', labelCol='ctr', predictionCol='prediction')\n",
    "    dt = DecisionTreeRegressor(featuresCol='features', labelCol='ctr', predictionCol='prediction', maxDepth=5)    \n",
    "    \n",
    "    lr_paramGrid = ParamGridBuilder()\\\n",
    "        .baseOn({pipeline.stages: pipeline_stages + [lr]}) \\\n",
    "        .addGrid(lr.regParam, [0.4])\\\n",
    "        .addGrid(lr.maxIter, [40])\\\n",
    "        .addGrid(lr.elasticNetParam, [0.8])\\\n",
    "        .build()\n",
    "    gbt_paramGrid = ParamGridBuilder()\\\n",
    "        .baseOn({pipeline.stages: pipeline_stages + [gbt]}) \\\n",
    "        .addGrid(gbt.maxDepth, [2, 3, 4, 5])\\\n",
    "        .addGrid(gbt.maxIter, [4, 5, 6, 7])\\\n",
    "        .build()\n",
    "    rf_ParamGrid = ParamGridBuilder()\\\n",
    "        .baseOn({pipeline.stages: pipeline_stages + [rf]}) \\\n",
    "        .addGrid(rf.maxDepth, [2, 3, 4, 5])\\\n",
    "        .addGrid(rf.numTrees, [19, 20, 21])\\\n",
    "        .addGrid(rf.featureSubsetStrategy, ['onethird', '0.5', 'sqrt'])\\\n",
    "        .build()\n",
    "    dt_paramGrid = ParamGridBuilder()\\\n",
    "        .baseOn({pipeline.stages: pipeline_stages + [dt]}) \\\n",
    "        .addGrid(dt.maxDepth, [4, 5, 6])\\\n",
    "        .addGrid(dt.minInfoGain, [0.0, 0.1, 0.2])\\\n",
    "        .addGrid(dt.maxBins, [25, 28, 32])\\\n",
    "        .build()\n",
    "    \n",
    "    return {'lr': lr_paramGrid, 'gbt': gbt_paramGrid, 'rf': rf_ParamGrid, 'dt': dt_paramGrid }\n",
    "\n",
    "\n",
    "def process(spark, train_data, test_data):\n",
    "    #train_data - путь к файлу с данными для обучения модели\n",
    "    train_df =  spark.read.parquet(\"train.parquet\")\n",
    "    #test_data - путь к файлу с данными для оценки качества модели\n",
    "    test_df =  spark.read.parquet(\"test.parquet\")\n",
    "\n",
    "    features = VectorAssembler(inputCols=train_df.columns[:-1], outputCol=\"features\")\n",
    "    pipeline = Pipeline(stages=[features]) \n",
    "    # define models and paramGrids \n",
    "    paramGrids_dict = get_paramGrids_dict(pipeline)\n",
    "    grids = paramGrids_dict['lr'] + paramGrids_dict['gbt'] + paramGrids_dict['rf'] + paramGrids_dict['dt']\n",
    "    evaluator = RegressionEvaluator(labelCol=\"ctr\", predictionCol=\"prediction\", metricName=\"rmse\")\n",
    "\n",
    "    # define tvs to find the best set of hyperparameters and best model\n",
    "    tvs = TrainValidationSplit(estimator=pipeline,\n",
    "                               estimatorParamMaps=grids,\n",
    "                               evaluator=evaluator,\n",
    "                               trainRatio=0.8)\n",
    "    # train model and run tvs\n",
    "    model = tvs.fit(train_df)\n",
    "    p_model = model.bestModel\n",
    "    print(\"Model and parameters: %s\" % p_model.stages[1])\n",
    "    print(\"Train data RMSE: %f\" % round(np.min(model.validationMetrics), 4))\n",
    "    \n",
    "    # save model \n",
    "    p_model.write().overwrite().save('spark_ml_model')\n",
    "    \n",
    "    # evaluate model on test data \n",
    "    prediction = p_model.transform(test_df)\n",
    "    test_rmse = evaluator.evaluate(prediction)\n",
    "    print(\"Test data RMSE: %f\" % round(test_rmse, 4))\n",
    "\n",
    "def main(argv):\n",
    "    train_data = argv[0]\n",
    "    print(\"Input path to train data: \" + train_data)\n",
    "    test_data = argv[1]\n",
    "    print(\"Input path to test data: \" + test_data)\n",
    "    spark = _spark_session()\n",
    "    process(spark, train_data, test_data)\n",
    "\n",
    "\n",
    "def _spark_session():\n",
    "    return SparkSession.builder.appName('PySparkMLFitJob').getOrCreate()\n",
    "\n",
    "\n",
    "if __name__ == \"__main__\":\n",
    "    arg = sys.argv[1:]\n",
    "    if len(arg) != 2:\n",
    "        sys.exit(\"Train and test data are require.\")\n",
    "    else:\n",
    "        main(arg)\n"
   ]
  },
  {
   "cell_type": "code",
   "execution_count": 75,
   "metadata": {},
   "outputs": [
    {
     "data": {
      "text/plain": [
       "[Param(parent='GBTRegressor_367dc82f24e4', name='cacheNodeIds', doc='If false, the algorithm will pass trees to executors to match instances with nodes. If true, the algorithm will cache node IDs for each instance. Caching can speed up training of deeper trees. Users can set how often should the cache be checkpointed or disable it by setting checkpointInterval.'),\n",
       " Param(parent='GBTRegressor_367dc82f24e4', name='checkpointInterval', doc='set checkpoint interval (>= 1) or disable checkpoint (-1). E.g. 10 means that the cache will get checkpointed every 10 iterations. Note: this setting will be ignored if the checkpoint directory is not set in the SparkContext.'),\n",
       " Param(parent='GBTRegressor_367dc82f24e4', name='featureSubsetStrategy', doc=\"The number of features to consider for splits at each tree node. Supported options: 'auto' (choose automatically for task: If numTrees == 1, set to 'all'. If numTrees > 1 (forest), set to 'sqrt' for classification and to 'onethird' for regression), 'all' (use all features), 'onethird' (use 1/3 of the features), 'sqrt' (use sqrt(number of features)), 'log2' (use log2(number of features)), 'n' (when n is in the range (0, 1.0], use n * number of features. When n is in the range (1, number of features), use n features). default = 'auto'\"),\n",
       " Param(parent='GBTRegressor_367dc82f24e4', name='featuresCol', doc='features column name.'),\n",
       " Param(parent='GBTRegressor_367dc82f24e4', name='impurity', doc='Criterion used for information gain calculation (case-insensitive). Supported options: variance'),\n",
       " Param(parent='GBTRegressor_367dc82f24e4', name='labelCol', doc='label column name.'),\n",
       " Param(parent='GBTRegressor_367dc82f24e4', name='leafCol', doc='Leaf indices column name. Predicted leaf index of each instance in each tree by preorder.'),\n",
       " Param(parent='GBTRegressor_367dc82f24e4', name='lossType', doc='Loss function which GBT tries to minimize (case-insensitive). Supported options: squared, absolute'),\n",
       " Param(parent='GBTRegressor_367dc82f24e4', name='maxBins', doc='Max number of bins for discretizing continuous features.  Must be >=2 and >= number of categories for any categorical feature.'),\n",
       " Param(parent='GBTRegressor_367dc82f24e4', name='maxDepth', doc='Maximum depth of the tree. (>= 0) E.g., depth 0 means 1 leaf node; depth 1 means 1 internal node + 2 leaf nodes.'),\n",
       " Param(parent='GBTRegressor_367dc82f24e4', name='maxIter', doc='max number of iterations (>= 0).'),\n",
       " Param(parent='GBTRegressor_367dc82f24e4', name='maxMemoryInMB', doc='Maximum memory in MB allocated to histogram aggregation. If too small, then 1 node will be split per iteration, and its aggregates may exceed this size.'),\n",
       " Param(parent='GBTRegressor_367dc82f24e4', name='minInfoGain', doc='Minimum information gain for a split to be considered at a tree node.'),\n",
       " Param(parent='GBTRegressor_367dc82f24e4', name='minInstancesPerNode', doc='Minimum number of instances each child must have after split. If a split causes the left or right child to have fewer than minInstancesPerNode, the split will be discarded as invalid. Should be >= 1.'),\n",
       " Param(parent='GBTRegressor_367dc82f24e4', name='minWeightFractionPerNode', doc='Minimum fraction of the weighted sample count that each child must have after split. If a split causes the fraction of the total weight in the left or right child to be less than minWeightFractionPerNode, the split will be discarded as invalid. Should be in interval [0.0, 0.5).'),\n",
       " Param(parent='GBTRegressor_367dc82f24e4', name='predictionCol', doc='prediction column name.'),\n",
       " Param(parent='GBTRegressor_367dc82f24e4', name='seed', doc='random seed.'),\n",
       " Param(parent='GBTRegressor_367dc82f24e4', name='stepSize', doc='Step size (a.k.a. learning rate) in interval (0, 1] for shrinking the contribution of each estimator.'),\n",
       " Param(parent='GBTRegressor_367dc82f24e4', name='subsamplingRate', doc='Fraction of the training data used for learning each decision tree, in range (0, 1].'),\n",
       " Param(parent='GBTRegressor_367dc82f24e4', name='validationIndicatorCol', doc='name of the column that indicates whether each row is for training or for validation. False indicates training; true indicates validation.'),\n",
       " Param(parent='GBTRegressor_367dc82f24e4', name='validationTol', doc='Threshold for stopping early when fit with validation is used. If the error rate on the validation input changes by less than the validationTol, then learning will stop early (before `maxIter`). This parameter is ignored when fit without validation is used.'),\n",
       " Param(parent='GBTRegressor_367dc82f24e4', name='weightCol', doc='weight column name. If this is not set or empty, we treat all instance weights as 1.0.')]"
      ]
     },
     "execution_count": 75,
     "metadata": {},
     "output_type": "execute_result"
    }
   ],
   "source": [
    "model"
   ]
  },
  {
   "cell_type": "code",
   "execution_count": 80,
   "metadata": {},
   "outputs": [
    {
     "data": {
      "text/plain": [
       "[Param(parent='TrainValidationSplitModel_979a7bf272e6', name='estimator', doc='estimator to be cross-validated'),\n",
       " Param(parent='TrainValidationSplitModel_979a7bf272e6', name='estimatorParamMaps', doc='estimator param maps'),\n",
       " Param(parent='TrainValidationSplitModel_979a7bf272e6', name='evaluator', doc='evaluator used to select hyper-parameters that maximize the validator metric'),\n",
       " Param(parent='TrainValidationSplitModel_979a7bf272e6', name='seed', doc='random seed.'),\n",
       " Param(parent='TrainValidationSplitModel_979a7bf272e6', name='trainRatio', doc='Param for ratio between train and     validation data. Must be between 0 and 1.')]"
      ]
     },
     "execution_count": 80,
     "metadata": {},
     "output_type": "execute_result"
    }
   ],
   "source": [
    "model1.params"
   ]
  },
  {
   "cell_type": "code",
   "execution_count": 82,
   "metadata": {},
   "outputs": [
    {
     "name": "stdout",
     "output_type": "stream",
     "text": [
      "Model: GBTRegressionModel: uid=GBTRegressor_236fe008517c, numTrees=6, numFeatures=7\n",
      "Train data RMSE: 0.079700\n"
     ]
    }
   ],
   "source": [
    "def get_paramGrids_dict(pipeline):\n",
    "    pipeline_stages = pipeline.getStages()\n",
    "    \n",
    "    lr = LinearRegression(featuresCol='features', labelCol='ctr', predictionCol='prediction')\n",
    "    gbt = GBTRegressor(featuresCol='features', labelCol='ctr', predictionCol='prediction')\n",
    "    rf = RandomForestRegressor(featuresCol='features', labelCol='ctr', predictionCol='prediction')\n",
    "    dt = DecisionTreeRegressor(featuresCol='features', labelCol='ctr', predictionCol='prediction', maxDepth=5)    \n",
    "    \n",
    "    lr_paramGrid = ParamGridBuilder()\\\n",
    "        .baseOn({pipeline.stages: pipeline_stages + [lr]}) \\\n",
    "        .addGrid(lr.regParam, [0.4])\\\n",
    "        .addGrid(lr.maxIter, [40])\\\n",
    "        .addGrid(lr.elasticNetParam, [0.8])\\\n",
    "        .build()\n",
    "    gbt_paramGrid = ParamGridBuilder()\\\n",
    "        .baseOn({pipeline.stages: pipeline_stages + [gbt]}) \\\n",
    "        .addGrid(gbt.maxDepth, [5, 6, 7])\\\n",
    "        .addGrid(gbt.maxBins, [25, 28, 32])\\\n",
    "        .addGrid(gbt.maxIter, [4, 5, 6, 7])\\\n",
    "        .build()\n",
    "    rf_ParamGrid = ParamGridBuilder()\\\n",
    "        .baseOn({pipeline.stages: pipeline_stages + [rf]}) \\\n",
    "        .addGrid(rf.maxDepth, [2, 3, 4, 5])\\\n",
    "        .addGrid(rf.numTrees, [19, 20, 21])\\\n",
    "        .addGrid(rf.featureSubsetStrategy, ['onethird', '0.5', 'sqrt'])\\\n",
    "        .build()\n",
    "    dt_paramGrid = ParamGridBuilder()\\\n",
    "        .baseOn({pipeline.stages: pipeline_stages + [dt]}) \\\n",
    "        .addGrid(dt.maxDepth, [4, 5, 6])\\\n",
    "        .addGrid(dt.minInfoGain, [0.0, 0.1, 0.2])\\\n",
    "        .addGrid(dt.maxBins, [32, 33])\\\n",
    "        .build()\n",
    "    \n",
    "    return {'lr': lr_paramGrid, 'gbt': gbt_paramGrid, 'rf': rf_ParamGrid, 'dt': dt_paramGrid }\n",
    "\n",
    "#train_data - путь к файлу с данными для обучения модели\n",
    "train_df =  spark.read.parquet(\"train.parquet\")\n",
    "    #test_data - путь к файлу с данными для оценки качества модели\n",
    "test_df =  spark.read.parquet(\"test.parquet\")\n",
    "\n",
    "features = VectorAssembler(inputCols=train_df.columns[:-1], outputCol=\"features\")\n",
    "pipeline = Pipeline(stages=[features]) \n",
    "    # define models and paramGrids \n",
    "paramGrids_dict = get_paramGrids_dict(pipeline)\n",
    "grids =  paramGrids_dict['gbt']  \n",
    "    \n",
    "evaluator = RegressionEvaluator(labelCol=\"ctr\", predictionCol=\"prediction\", metricName=\"rmse\")\n",
    "    # define tvs to find the best set of hyperparameters and best model\n",
    "tvs = TrainValidationSplit(estimator=pipeline,\n",
    "                               estimatorParamMaps=grids,\n",
    "                               evaluator=evaluator,\n",
    "                               trainRatio=0.8)\n",
    "    # train model and run tvs\n",
    "model = tvs.fit(train_df)\n",
    "p_model = model.bestModel\n",
    "print(\"Model: %s\" % p_model.stages[1])\n",
    "print(\"Train data RMSE: %f\" % round(np.min(model.validationMetrics), 4))\n",
    "    \n"
   ]
  },
  {
   "cell_type": "code",
   "execution_count": 106,
   "metadata": {},
   "outputs": [
    {
     "data": {
      "text/plain": [
       "{Param(parent='GBTRegressor_236fe008517c', name='cacheNodeIds', doc='If false, the algorithm will pass trees to executors to match instances with nodes. If true, the algorithm will cache node IDs for each instance. Caching can speed up training of deeper trees. Users can set how often should the cache be checkpointed or disable it by setting checkpointInterval.'): False,\n",
       " Param(parent='GBTRegressor_236fe008517c', name='checkpointInterval', doc='set checkpoint interval (>= 1) or disable checkpoint (-1). E.g. 10 means that the cache will get checkpointed every 10 iterations. Note: this setting will be ignored if the checkpoint directory is not set in the SparkContext.'): 10,\n",
       " Param(parent='GBTRegressor_236fe008517c', name='featureSubsetStrategy', doc=\"The number of features to consider for splits at each tree node. Supported options: 'auto' (choose automatically for task: If numTrees == 1, set to 'all'. If numTrees > 1 (forest), set to 'sqrt' for classification and to 'onethird' for regression), 'all' (use all features), 'onethird' (use 1/3 of the features), 'sqrt' (use sqrt(number of features)), 'log2' (use log2(number of features)), 'n' (when n is in the range (0, 1.0], use n * number of features. When n is in the range (1, number of features), use n features). default = 'auto'\"): 'all',\n",
       " Param(parent='GBTRegressor_236fe008517c', name='featuresCol', doc='features column name.'): 'features',\n",
       " Param(parent='GBTRegressor_236fe008517c', name='impurity', doc='Criterion used for information gain calculation (case-insensitive). Supported options: variance'): 'variance',\n",
       " Param(parent='GBTRegressor_236fe008517c', name='labelCol', doc='label column name.'): 'ctr',\n",
       " Param(parent='GBTRegressor_236fe008517c', name='leafCol', doc='Leaf indices column name. Predicted leaf index of each instance in each tree by preorder.'): '',\n",
       " Param(parent='GBTRegressor_236fe008517c', name='lossType', doc='Loss function which GBT tries to minimize (case-insensitive). Supported options: squared, absolute'): 'squared',\n",
       " Param(parent='GBTRegressor_236fe008517c', name='maxBins', doc='Max number of bins for discretizing continuous features.  Must be >=2 and >= number of categories for any categorical feature.'): 32,\n",
       " Param(parent='GBTRegressor_236fe008517c', name='maxDepth', doc='Maximum depth of the tree. (>= 0) E.g., depth 0 means 1 leaf node; depth 1 means 1 internal node + 2 leaf nodes.'): 6,\n",
       " Param(parent='GBTRegressor_236fe008517c', name='maxIter', doc='max number of iterations (>= 0).'): 6,\n",
       " Param(parent='GBTRegressor_236fe008517c', name='maxMemoryInMB', doc='Maximum memory in MB allocated to histogram aggregation. If too small, then 1 node will be split per iteration, and its aggregates may exceed this size.'): 256,\n",
       " Param(parent='GBTRegressor_236fe008517c', name='minInfoGain', doc='Minimum information gain for a split to be considered at a tree node.'): 0.0,\n",
       " Param(parent='GBTRegressor_236fe008517c', name='minInstancesPerNode', doc='Minimum number of instances each child must have after split. If a split causes the left or right child to have fewer than minInstancesPerNode, the split will be discarded as invalid. Should be >= 1.'): 1,\n",
       " Param(parent='GBTRegressor_236fe008517c', name='minWeightFractionPerNode', doc='Minimum fraction of the weighted sample count that each child must have after split. If a split causes the fraction of the total weight in the left or right child to be less than minWeightFractionPerNode, the split will be discarded as invalid. Should be in interval [0.0, 0.5).'): 0.0,\n",
       " Param(parent='GBTRegressor_236fe008517c', name='predictionCol', doc='prediction column name.'): 'prediction',\n",
       " Param(parent='GBTRegressor_236fe008517c', name='seed', doc='random seed.'): -6328128269268990785,\n",
       " Param(parent='GBTRegressor_236fe008517c', name='stepSize', doc='Step size (a.k.a. learning rate) in interval (0, 1] for shrinking the contribution of each estimator.'): 0.1,\n",
       " Param(parent='GBTRegressor_236fe008517c', name='subsamplingRate', doc='Fraction of the training data used for learning each decision tree, in range (0, 1].'): 1.0,\n",
       " Param(parent='GBTRegressor_236fe008517c', name='validationTol', doc='Threshold for stopping early when fit with validation is used. If the error rate on the validation input changes by less than the validationTol, then learning will stop early (before `maxIter`). This parameter is ignored when fit without validation is used.'): 0.01}"
      ]
     },
     "execution_count": 106,
     "metadata": {},
     "output_type": "execute_result"
    }
   ],
   "source": [
    "model.bestModel.stages[1].extractParamMap() "
   ]
  },
  {
   "cell_type": "code",
   "execution_count": null,
   "metadata": {},
   "outputs": [],
   "source": []
  }
 ],
 "metadata": {
  "kernelspec": {
   "display_name": "Python 3",
   "language": "python",
   "name": "python3"
  },
  "language_info": {
   "codemirror_mode": {
    "name": "ipython",
    "version": 3
   },
   "file_extension": ".py",
   "mimetype": "text/x-python",
   "name": "python",
   "nbconvert_exporter": "python",
   "pygments_lexer": "ipython3",
   "version": "3.7.9"
  }
 },
 "nbformat": 4,
 "nbformat_minor": 2
}
